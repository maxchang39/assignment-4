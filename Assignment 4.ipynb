{
 "cells": [
  {
   "cell_type": "markdown",
   "metadata": {},
   "source": [
    "# Assignment 4: Final Project Preparation\n",
    "\n"
   ]
  },
  {
   "cell_type": "markdown",
   "metadata": {},
   "source": [
    "# Exercise 1: Exploratory Data Analysis (60 points)\n",
    "\n",
    "We are going to do some exploratory analysis on the data to see what is available. This data is from a Kaggle competition: https://www.kaggle.com/c/home-credit-default-risk/data, and we are not going to be entering the competition in this exercise, we should come up with something reasonable. See the associated Final Project note on the acceptance criteria and requirements. \n"
   ]
  },
  {
   "cell_type": "code",
   "execution_count": 30,
   "metadata": {},
   "outputs": [
    {
     "data": {
      "application/javascript": [
       "if(window['d3'] === undefined ||\n",
       "   window['Nyaplot'] === undefined){\n",
       "    var path = {\"d3\":\"https://cdnjs.cloudflare.com/ajax/libs/d3/3.5.5/d3.min\",\"downloadable\":\"http://cdn.rawgit.com/domitry/d3-downloadable/master/d3-downloadable\"};\n",
       "\n",
       "\n",
       "\n",
       "    var shim = {\"d3\":{\"exports\":\"d3\"},\"downloadable\":{\"exports\":\"downloadable\"}};\n",
       "\n",
       "    require.config({paths: path, shim:shim});\n",
       "\n",
       "\n",
       "require(['d3'], function(d3){window['d3']=d3;console.log('finished loading d3');require(['downloadable'], function(downloadable){window['downloadable']=downloadable;console.log('finished loading downloadable');\n",
       "\n",
       "\tvar script = d3.select(\"head\")\n",
       "\t    .append(\"script\")\n",
       "\t    .attr(\"src\", \"http://cdn.rawgit.com/domitry/Nyaplotjs/master/release/nyaplot.js\")\n",
       "\t    .attr(\"async\", true);\n",
       "\n",
       "\tscript[0][0].onload = script[0][0].onreadystatechange = function(){\n",
       "\n",
       "\n",
       "\t    var event = document.createEvent(\"HTMLEvents\");\n",
       "\t    event.initEvent(\"load_nyaplot\",false,false);\n",
       "\t    window.dispatchEvent(event);\n",
       "\t    console.log('Finished loading Nyaplotjs');\n",
       "\n",
       "\t};\n",
       "\n",
       "\n",
       "});});\n",
       "}\n"
      ],
      "text/plain": [
       "\"if(window['d3'] === undefined ||\\n   window['Nyaplot'] === undefined){\\n    var path = {\\\"d3\\\":\\\"https://cdnjs.cloudflare.com/ajax/libs/d3/3.5.5/d3.min\\\",\\\"downloadable\\\":\\\"http://cdn.rawgit.com/domitry/d3-downloadable/master/d3-downloadable\\\"};\\n\\n\\n\\n    var shim = {\\\"d3\\\":{\\\"exports\\\":\\\"d3\\\"},\\\"downloadable\\\":{\\\"exports\\\":\\\"downloadable\\\"}};\\n\\n    require.config({paths: path, shim:shim});\\n\\n\\nrequire(['d3'], function(d3){window['d3']=d3;console.log('finished loading d3');require(['downloadable'], function(downloadable){window['downloadable']=downloadable;console.log('finished loading downloadable');\\n\\n\\tvar script = d3.select(\\\"head\\\")\\n\\t    .append(\\\"script\\\")\\n\\t    .attr(\\\"src\\\", \\\"http://cdn.rawgit.com/domitry/Nyaplotjs/master/release/nyaplot.js\\\")\\n\\t    .attr(\\\"async\\\", true);\\n\\n\\tscript[0][0].onload = script[0][0].onreadystatechange = function(){\\n\\n\\n\\t    var event = document.createEvent(\\\"HTMLEvents\\\");\\n\\t    event.initEvent(\\\"load_nyaplot\\\",false,false);\\n\\t    window.dispatchEvent(event);\\n\\t    console.log('Finished loading Nyaplotjs');\\n\\n\\t};\\n\\n\\n});});\\n}\\n\""
      ]
     },
     "metadata": {},
     "output_type": "display_data"
    },
    {
     "data": {
      "text/plain": [
       "false"
      ]
     },
     "execution_count": 30,
     "metadata": {},
     "output_type": "execute_result"
    }
   ],
   "source": [
    "require 'open-uri'\n",
    "require 'json'\n",
    "require 'daru'\n",
    "require 'distribution'\n",
    "require 'sqlite3' ##This should return true if you have SQLite3 installed"
   ]
  },
  {
   "cell_type": "markdown",
   "metadata": {},
   "source": [
    "Let's start off by downloading the data. If this cell doesn't work, download the file manually [from here](https://northeastern-my.sharepoint.com/:u:/g/personal/abagher_northeastern_edu/EUrp99lNLEhFnbuOoh_zJo0B14uOS0fHKb30sdKcbhEmyA?e=p0iTwg)."
   ]
  },
  {
   "cell_type": "code",
   "execution_count": 39,
   "metadata": {},
   "outputs": [
    {
     "name": "stdout",
     "output_type": "stream",
     "text": [
      "true\n",
      "true\n"
     ]
    }
   ],
   "source": [
    "require 'fileutils'\n",
    "dir = \"#{ENV['HOME']}/cs6140/final_project\"\n",
    "\n",
    "FileUtils.mkdir_p(dir)\n",
    "[\"HomeCredit_columns_description.csv\"].each do |file|\n",
    "  unless File.exists? \"#{dir}/#{file}\"\n",
    "    download = open(\"https://s3-us-west-1.amazonaws.com/abagher-public/cs6140/2018-summer/final-project/#{file}\")\n",
    "    IO.copy_stream(download, \"#{dir}/#{file}\")\n",
    "  end\n",
    "end\n",
    "\n",
    "puts File.exists?(\"#{dir}/HomeCredit_columns_description.csv\")\n",
    "puts File.exists?(\"#{dir}/credit_risk_data.db\")"
   ]
  },
  {
   "cell_type": "code",
   "execution_count": 27,
   "metadata": {},
   "outputs": [
    {
     "data": {
      "text/plain": [
       "#<SQLite3::Database:0x000000022b3228 @tracefunc=nil, @authorizer=nil, @encoding=nil, @busy_handler=nil, @collations={}, @functions={}, @results_as_hash=nil, @type_translation=nil, @readonly=false>"
      ]
     },
     "execution_count": 27,
     "metadata": {},
     "output_type": "execute_result"
    }
   ],
   "source": [
    "db = SQLite3::Database.new \"#{dir}/credit_risk_data.db\""
   ]
  },
  {
   "cell_type": "code",
   "execution_count": 28,
   "metadata": {},
   "outputs": [
    {
     "name": "stdout",
     "output_type": "stream",
     "text": [
      "[100002,1,\"Cash loans\",\"M\",\"N\",\"Y\",0,202500,406597.5,24700.5,351000,\"Unaccompanied\",\"Working\",\"Secondary / secondary special\",\"Single / not married\",\"House / apartment\",0.018801,-9461,-637,-3648,-2120,\"\",1,1,0,1,1,0,\"Laborers\",1,2,2,\"WEDNESDAY\",10,0,0,0,0,0,0,\"Business Entity Type 3\",0.08303696739132256,0.2629485927471776,0.13937578009978951,0.0247,0.0369,0.9722,0.6192,0.0143,0,0.069,0.0833,0.125,0.0369,0.0202,0.019,0,\"0.0\",\"0.0252\",\"0.0383\",\"0.9722\",\"0.6341\",\"0.0144\",\"0.0\",\"0.069\",\"0.0833\",\"0.125\",\"0.0377\",\"0.022\",\"0.0198\",\"0.0\",\"0.0\",\"0.025\",\"0.0369\",\"0.9722\",\"0.6243\",\"0.0144\",\"0.0\",\"0.069\",\"0.0833\",\"0.125\",\"0.0375\",\"0.0205\",\"0.0193\",\"0.0\",\"0.0\",\"reg oper account\",\"block of flats\",\"0.0149\",\"Stone, brick\",\"No\",\"2.0\",\"2.0\",\"2.0\",\"2.0\",\"-1134.0\",\"0\",\"1\",\"0\",\"0\",\"0\",\"0\",\"0\",\"0\",\"0\",\"0\",\"0\",\"0\",\"0\",\"0\",\"0\",\"0\",\"0\",\"0\",\"0\",\"0\",\"0.0\",\"0.0\",\"0.0\",\"0.0\",\"0.0\",\"1.0\"]\n"
     ]
    }
   ],
   "source": [
    "db.execute(\"select * from application_train\") do |row|\n",
    "  puts row.to_json\n",
    "  break\n",
    "end"
   ]
  },
  {
   "cell_type": "markdown",
   "metadata": {},
   "source": [
    "## Begin Question 1.1 (5 points)\n",
    "\n",
    "Plot the class distribution of the \"target\" class for \"application_train\".\n",
    "\n",
    "### Answer"
   ]
  },
  {
   "cell_type": "code",
   "execution_count": 38,
   "metadata": {},
   "outputs": [
    {
     "data": {
      "text/html": [
       "<div id='vis-81c69b45-e033-459d-bd56-9fbf179fc4f4'></div>\n",
       "<script>\n",
       "(function(){\n",
       "    var render = function(){\n",
       "        var model = {\"panes\":[{\"diagrams\":[{\"type\":\"bar\",\"options\":{\"x\":\"x\",\"y\":\"y\"},\"data\":\"5e002680-0e1f-4268-ac48-b458502abac4\"}],\"options\":{\"x_label\":\"Target\",\"y_label\":\"Frequency\",\"width\":700,\"xrange\":[\"0\",\"1\"],\"yrange\":[0,282686]}}],\"data\":{\"5e002680-0e1f-4268-ac48-b458502abac4\":[{\"x\":\"0\",\"y\":282686},{\"x\":\"1\",\"y\":24825}]},\"extension\":[]}\n",
       "        var id_name = '#vis-81c69b45-e033-459d-bd56-9fbf179fc4f4';\n",
       "        Nyaplot.core.parse(model, id_name);\n",
       "\n",
       "        require(['downloadable'], function(downloadable){\n",
       "          var svg = d3.select(id_name).select(\"svg\");\n",
       "\t  if(!svg.empty())\n",
       "\t    svg.call(downloadable().filename('fig'));\n",
       "\t});\n",
       "    };\n",
       "    if(window['Nyaplot']==undefined){\n",
       "        window.addEventListener('load_nyaplot', render, false);\n",
       "\treturn;\n",
       "    } else {\n",
       "       render();\n",
       "    }\n",
       "})();\n",
       "</script>\n"
      ],
      "text/plain": [
       "#<Nyaplot::Plot:0x0000000519f7d0 @properties={:diagrams=>[#<Nyaplot::Diagram:0x0000000519dc78 @properties={:type=>:bar, :options=>{:x=>:x, :y=>:y}, :data=>\"5e002680-0e1f-4268-ac48-b458502abac4\"}, @xrange=[\"0\", \"1\"], @yrange=[0, 282686]>], :options=>{:x_label=>\"Target\", :y_label=>\"Frequency\", :width=>700, :xrange=>[\"0\", \"1\"], :yrange=>[0, 282686]}}>"
      ]
     },
     "execution_count": 38,
     "metadata": {},
     "output_type": "execute_result"
    }
   ],
   "source": [
    "x = []\n",
    "y = []\n",
    "db.execute(\"select target, count(*) from application_train group by target\") do |row|\n",
    "  x << row[0].to_s\n",
    "  y << row[1]\n",
    "end\n",
    "\n",
    "df =  Daru::DataFrame.new({x: x, y: y})\n",
    "df.to_category :x\n",
    "df.plot(type: :bar, x: :x, y: :y) do |plot, diagram|\n",
    "  plot.x_label \"Target\"\n",
    "  plot.y_label \"Frequency\"\n",
    "end\n"
   ]
  },
  {
   "cell_type": "markdown",
   "metadata": {},
   "source": [
    "---\n",
    "## End Question 1.1\n",
    "\n",
    "\n",
    "## Begin Question 1.2 (10 points)\n",
    "\n",
    "For each categorical feature in each dataset, plot the distibution of the top 10 values. For those with more than 10 values how many are there. \n",
    "\n",
    "---\n",
    "\n",
    "### Answer"
   ]
  },
  {
   "cell_type": "code",
   "execution_count": null,
   "metadata": {},
   "outputs": [],
   "source": []
  },
  {
   "cell_type": "markdown",
   "metadata": {},
   "source": [
    "---\n",
    "## End Question 1.2\n",
    "\n",
    "\n",
    "## Begin Question 1.3 (10 points)\n",
    "Plot the distribution of number of previous applications for all the datasets involving previous loan applications. Are the previous loans in application train? Are there duplicate applications in application_train?\n",
    "\n",
    "---\n",
    "### Answer"
   ]
  },
  {
   "cell_type": "code",
   "execution_count": null,
   "metadata": {},
   "outputs": [],
   "source": []
  },
  {
   "cell_type": "markdown",
   "metadata": {},
   "source": [
    "---\n",
    "\n",
    "## End Question 1.3\n",
    "\n",
    "\n",
    "## Begin Question 1.4 (35 points)\n",
    "\n",
    "Join all the datasets by sorting the on disk and joining them as appropriate. Generate one record for each application using all available prior data. (Hint, use SQL)\n",
    "\n",
    "Verify that you have not lost any records.\n",
    "\n",
    "---\n",
    "### Answer"
   ]
  },
  {
   "cell_type": "code",
   "execution_count": null,
   "metadata": {},
   "outputs": [],
   "source": []
  },
  {
   "cell_type": "markdown",
   "metadata": {},
   "source": [
    "---\n",
    "\n",
    "## End Exercise 1"
   ]
  },
  {
   "cell_type": "code",
   "execution_count": 4,
   "metadata": {},
   "outputs": [
    {
     "name": "stdout",
     "output_type": "stream",
     "text": [
      "Assignment 4.ipynb\n",
      "README.md\n"
     ]
    }
   ],
   "source": [
    "print `ls`"
   ]
  },
  {
   "cell_type": "markdown",
   "metadata": {},
   "source": [
    "# Exercise 2 (40 Points)\n",
    "\n",
    "We will look at various features and try some simple classifiers to get an understanding of the data. \n",
    "\n",
    "## Question 2.1 (10 Points)\n",
    "Construct numeric features for all features in the dataset. For example, use binary (one-hot encoding) for categorical features. Since the data is in JSON, there is no need to have an index, just set a unique name for all the features. \n",
    "\n",
    "How many unique features do you have in your dataset?\n",
    "\n",
    "What is the average number of non-zero examples for your features? Plot a distribution\n",
    "\n",
    "---\n",
    "### Answer"
   ]
  },
  {
   "cell_type": "code",
   "execution_count": null,
   "metadata": {},
   "outputs": [],
   "source": []
  },
  {
   "cell_type": "markdown",
   "metadata": {},
   "source": [
    "---\n",
    "## End Question 2.1\n",
    "\n",
    "\n",
    "## Begin Question 2.2 (5 Points)\n",
    "\n",
    "Create a classifier that always returns the majority class label. Calculate its accuracy.\n",
    "\n",
    "--- \n",
    "### Answer"
   ]
  },
  {
   "cell_type": "code",
   "execution_count": null,
   "metadata": {},
   "outputs": [],
   "source": []
  },
  {
   "cell_type": "markdown",
   "metadata": {},
   "source": [
    "--- \n",
    "## End Question 2.2 \n",
    "\n",
    "\n",
    "## Begin Question 2.3 (5 points)\n",
    "\n",
    "Create a classifier that randomly picks a class label with probability equal to the class distribution. Calculate its accuracy. Do you notice any difference to the previous classifier?\n",
    "\n",
    "---\n",
    "\n",
    "### Answer"
   ]
  },
  {
   "cell_type": "code",
   "execution_count": null,
   "metadata": {},
   "outputs": [],
   "source": []
  },
  {
   "cell_type": "markdown",
   "metadata": {},
   "source": [
    "---\n",
    "## End Question 2.3\n",
    "\n",
    "## Begin Question 2.4 (20 points)\n",
    "Train your Naive Bayes classifier on this dataset using the Normal distribution instead of the Bernoulli distribution for the feature-specific class priors. Calculate the accuracy now.\n",
    "\n",
    "---\n",
    "### Answer"
   ]
  },
  {
   "cell_type": "code",
   "execution_count": null,
   "metadata": {},
   "outputs": [],
   "source": []
  },
  {
   "cell_type": "markdown",
   "metadata": {},
   "source": [
    "## End Exercise 2\n",
    "\n"
   ]
  }
 ],
 "metadata": {
  "kernelspec": {
   "display_name": "Ruby 2.3.1",
   "language": "ruby",
   "name": "ruby"
  },
  "language_info": {
   "file_extension": ".rb",
   "mimetype": "application/x-ruby",
   "name": "ruby",
   "version": "2.3.1"
  }
 },
 "nbformat": 4,
 "nbformat_minor": 2
}
