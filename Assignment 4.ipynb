{
 "cells": [
  {
   "cell_type": "markdown",
   "metadata": {},
   "source": [
    "# Assignment 4: Final Project Preparation\n",
    "\n"
   ]
  },
  {
   "cell_type": "markdown",
   "metadata": {},
   "source": [
    "# Exercise 1: Exploratory Data Analysis (60 points)\n",
    "\n",
    "We are going to do some exploratory analysis on the data to see what is available. This data is from a Kaggle competition: https://www.kaggle.com/c/home-credit-default-risk/data, and we are not going to be entering the competition in this exercise, we should come up with something reasonable. See the associated Final Project note on the acceptance criteria and requirements. \n"
   ]
  },
  {
   "cell_type": "code",
   "execution_count": 24,
   "metadata": {},
   "outputs": [
    {
     "data": {
      "text/plain": [
       "false"
      ]
     },
     "execution_count": 24,
     "metadata": {},
     "output_type": "execute_result"
    }
   ],
   "source": [
    "require 'open-uri'\n",
    "require 'json'\n",
    "require 'sqlite3' ##This should return true if you have SQLite3 installed"
   ]
  },
  {
   "cell_type": "markdown",
   "metadata": {},
   "source": [
    "Let's start off by downloading the data. If this cell doesn't work, download the file manually [from here](https://northeastern-my.sharepoint.com/:u:/g/personal/abagher_northeastern_edu/EUrp99lNLEhFnbuOoh_zJo0B14uOS0fHKb30sdKcbhEmyA?e=p0iTwg)."
   ]
  },
  {
   "cell_type": "code",
   "execution_count": 21,
   "metadata": {},
   "outputs": [
    {
     "name": "stdout",
     "output_type": "stream",
     "text": [
      "true\n",
      "true\n"
     ]
    }
   ],
   "source": [
    "require 'fileutils'\n",
    "dir = \"#{ENV['HOME']}/cs6140/final_project\"\n",
    "\n",
    "FileUtils.mkdir_p(dir)\n",
    "\n",
    "unless File.exists? \"#{dir}/HomeCredit_columns_description.csv\"\n",
    "  download = open(\"https://s3-us-west-1.amazonaws.com/abagher-public/cs6140/2018-summer/final-project/HomeCredit_columns_description.csv\")\n",
    "  IO.copy_stream(download, \"#{dir}/HomeCredit_columns_description.csv\")\n",
    "end\n",
    "\n",
    "puts File.exists?(\"#{dir}/HomeCredit_columns_description.csv\")\n",
    "puts File.exists?(\"#{dir}/credit_risk_data.db\")"
   ]
  },
  {
   "cell_type": "code",
   "execution_count": 22,
   "metadata": {},
   "outputs": [
    {
     "data": {
      "text/plain": [
       "#<SQLite3::Database:0x00000002410878 @tracefunc=nil, @authorizer=nil, @encoding=nil, @busy_handler=nil, @collations={}, @functions={}, @results_as_hash=nil, @type_translation=nil, @readonly=false>"
      ]
     },
     "execution_count": 22,
     "metadata": {},
     "output_type": "execute_result"
    }
   ],
   "source": [
    "db = SQLite3::Database.new \"#{dir}/credit_risk_data.db\""
   ]
  },
  {
   "cell_type": "code",
   "execution_count": 23,
   "metadata": {},
   "outputs": [
    {
     "ename": "SQLite3::CorruptException",
     "evalue": "database disk image is malformed",
     "output_type": "error",
     "traceback": [
      "\u001b[31mSQLite3::CorruptException\u001b[0m: database disk image is malformed",
      "\u001b[37m/var/lib/gems/2.3.0/gems/sqlite3-1.3.13/lib/sqlite3/database.rb:91:in `initialize'\u001b[0m",
      "\u001b[37m/var/lib/gems/2.3.0/gems/sqlite3-1.3.13/lib/sqlite3/database.rb:91:in `new'\u001b[0m",
      "\u001b[37m/var/lib/gems/2.3.0/gems/sqlite3-1.3.13/lib/sqlite3/database.rb:91:in `prepare'\u001b[0m",
      "\u001b[37m/var/lib/gems/2.3.0/gems/sqlite3-1.3.13/lib/sqlite3/database.rb:137:in `execute'\u001b[0m",
      "\u001b[37m<main>:in `<main>'\u001b[0m",
      "\u001b[37m/var/lib/gems/2.3.0/gems/iruby-0.3/lib/iruby/backend.rb:44:in `eval'\u001b[0m",
      "\u001b[37m/var/lib/gems/2.3.0/gems/iruby-0.3/lib/iruby/backend.rb:44:in `eval'\u001b[0m",
      "\u001b[37m/var/lib/gems/2.3.0/gems/iruby-0.3/lib/iruby/backend.rb:12:in `eval'\u001b[0m",
      "\u001b[37m/var/lib/gems/2.3.0/gems/iruby-0.3/lib/iruby/kernel.rb:87:in `execute_request'\u001b[0m",
      "\u001b[37m/var/lib/gems/2.3.0/gems/iruby-0.3/lib/iruby/kernel.rb:47:in `dispatch'\u001b[0m",
      "\u001b[37m/var/lib/gems/2.3.0/gems/iruby-0.3/lib/iruby/kernel.rb:37:in `run'\u001b[0m",
      "\u001b[37m/var/lib/gems/2.3.0/gems/iruby-0.3/lib/iruby/command.rb:70:in `run_kernel'\u001b[0m",
      "\u001b[37m/var/lib/gems/2.3.0/gems/iruby-0.3/lib/iruby/command.rb:34:in `run'\u001b[0m",
      "\u001b[37m/var/lib/gems/2.3.0/gems/iruby-0.3/bin/iruby:5:in `<top (required)>'\u001b[0m",
      "\u001b[37m/usr/local/bin/iruby:23:in `load'\u001b[0m",
      "\u001b[37m/usr/local/bin/iruby:23:in `<main>'\u001b[0m"
     ]
    }
   ],
   "source": [
    "db.execute(\"select * from application_train\") do |row|\n",
    "  puts row.to_json\n",
    "  break\n",
    "end"
   ]
  },
  {
   "cell_type": "markdown",
   "metadata": {},
   "source": [
    "## Begin Question 1.1 (5 points)\n",
    "\n",
    "Plot the class distribution of the \"target\" class for \"application_train\".\n",
    "\n",
    "### Answer"
   ]
  },
  {
   "cell_type": "code",
   "execution_count": null,
   "metadata": {},
   "outputs": [],
   "source": []
  },
  {
   "cell_type": "markdown",
   "metadata": {},
   "source": [
    "---\n",
    "## End Question 1.1\n",
    "\n",
    "\n",
    "## Begin Question 1.2 (10 points)\n",
    "\n",
    "For each categorical feature in each dataset, plot the distibution of the top 10 values. For those with more than 10 values how many are there. \n",
    "\n",
    "---\n",
    "\n",
    "### Answer"
   ]
  },
  {
   "cell_type": "code",
   "execution_count": null,
   "metadata": {},
   "outputs": [],
   "source": []
  },
  {
   "cell_type": "markdown",
   "metadata": {},
   "source": [
    "---\n",
    "## End Question 1.2\n",
    "\n",
    "\n",
    "## Begin Question 1.3 (10 points)\n",
    "Plot the distribution of number of previous applications for all the datasets involving previous loan applications. Are the previous loans in either application train or test? Are there duplicate applications in application_train?\n",
    "\n",
    "---\n",
    "### Answer"
   ]
  },
  {
   "cell_type": "code",
   "execution_count": null,
   "metadata": {},
   "outputs": [],
   "source": []
  },
  {
   "cell_type": "markdown",
   "metadata": {},
   "source": [
    "---\n",
    "\n",
    "## End Question 1.3\n",
    "\n",
    "\n",
    "## Begin Question 1.4 (35 points)\n",
    "\n",
    "Join all the datasets by sorting the on disk and joining them as appropriate. Generate one record for each application using all available prior data. (Hint, use shell commands sort and join. DO NOT Use a database)\n",
    "\n",
    "Verify that you have not lost any records.\n",
    "\n",
    "---\n",
    "### Answer"
   ]
  },
  {
   "cell_type": "code",
   "execution_count": null,
   "metadata": {},
   "outputs": [],
   "source": []
  },
  {
   "cell_type": "markdown",
   "metadata": {},
   "source": [
    "---\n",
    "\n",
    "## End Exercise 1"
   ]
  },
  {
   "cell_type": "code",
   "execution_count": 4,
   "metadata": {},
   "outputs": [
    {
     "name": "stdout",
     "output_type": "stream",
     "text": [
      "Assignment 4.ipynb\n",
      "README.md\n"
     ]
    }
   ],
   "source": [
    "print `ls`"
   ]
  },
  {
   "cell_type": "markdown",
   "metadata": {},
   "source": [
    "# Exercise 2 (40 Points)\n",
    "\n",
    "We will look at various features and try some simple classifiers to get an understanding of the data. \n",
    "\n",
    "## Question 2.1 (10 Points)\n",
    "Construct numeric features for all features in the dataset. For example, use binary (one-hot encoding) for categorical features. Since the data is in JSON, there is no need to have an index, just set a unique name for all the features. \n",
    "\n",
    "How many unique features do you have in your dataset?\n",
    "\n",
    "What is the average number of non-zero examples for your features? Plot a distribution\n",
    "\n",
    "---\n",
    "### Answer"
   ]
  },
  {
   "cell_type": "code",
   "execution_count": null,
   "metadata": {},
   "outputs": [],
   "source": []
  },
  {
   "cell_type": "markdown",
   "metadata": {},
   "source": [
    "---\n",
    "## End Question 2.1\n",
    "\n",
    "\n",
    "## Begin Question 2.2 (5 Points)\n",
    "\n",
    "Create a classifier that always returns the majority class label. Calculate its accuracy.\n",
    "\n",
    "--- \n",
    "### Answer"
   ]
  },
  {
   "cell_type": "code",
   "execution_count": null,
   "metadata": {},
   "outputs": [],
   "source": []
  },
  {
   "cell_type": "markdown",
   "metadata": {},
   "source": [
    "--- \n",
    "## End Question 2.2 \n",
    "\n",
    "\n",
    "## Begin Question 2.3 (5 points)\n",
    "\n",
    "Create a classifier that randomly picks a class label with probability equal to the class distribution. Calculate its accuracy. Do you notice any difference to the previous classifier?\n",
    "\n",
    "---\n",
    "\n",
    "### Answer"
   ]
  },
  {
   "cell_type": "code",
   "execution_count": null,
   "metadata": {},
   "outputs": [],
   "source": []
  },
  {
   "cell_type": "markdown",
   "metadata": {},
   "source": [
    "---\n",
    "## End Question 2.3\n",
    "\n",
    "## Begin Question 2.4 (20 points)\n",
    "Train your Naive Bayes classifier on this dataset using the Normal distribution instead of the Bernoulli distribution for the feature-specific class priors. Calculate the accuracy now.\n",
    "\n",
    "---\n",
    "### Answer"
   ]
  },
  {
   "cell_type": "code",
   "execution_count": null,
   "metadata": {},
   "outputs": [],
   "source": []
  },
  {
   "cell_type": "markdown",
   "metadata": {},
   "source": [
    "## End Exercise 2\n",
    "\n"
   ]
  }
 ],
 "metadata": {
  "kernelspec": {
   "display_name": "Ruby 2.3.1",
   "language": "ruby",
   "name": "ruby"
  },
  "language_info": {
   "file_extension": ".rb",
   "mimetype": "application/x-ruby",
   "name": "ruby",
   "version": "2.3.1"
  }
 },
 "nbformat": 4,
 "nbformat_minor": 2
}
