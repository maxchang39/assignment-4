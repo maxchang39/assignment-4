{
 "cells": [
  {
   "cell_type": "markdown",
   "metadata": {},
   "source": [
    "# Assignment 4: Final Project Preparation\n",
    "\n"
   ]
  },
  {
   "cell_type": "markdown",
   "metadata": {},
   "source": [
    "# Exercise 1: Exploratory Data Analysis (60 points)\n",
    "\n",
    "We are going to do some exploratory analysis on the data to see what is available. This data is from a Kaggle competition: https://www.kaggle.com/c/home-credit-default-risk/data, and we are not going to be entering the competition in this exercise, we should come up with something reasonable. See the associated Final Project note on the acceptance criteria and requirements. \n",
    "\n",
    "Let's start off by downloading the data"
   ]
  },
  {
   "cell_type": "code",
   "execution_count": null,
   "metadata": {},
   "outputs": [],
   "source": []
  },
  {
   "cell_type": "markdown",
   "metadata": {},
   "source": [
    "## Begin Question 1.1 (5 points)\n",
    "\n",
    "Plot the class distribution of the \"target\" class for \"application_train\".\n",
    "\n",
    "### Answer"
   ]
  },
  {
   "cell_type": "code",
   "execution_count": null,
   "metadata": {},
   "outputs": [],
   "source": []
  },
  {
   "cell_type": "markdown",
   "metadata": {},
   "source": [
    "---\n",
    "## End Question 1.1\n",
    "\n",
    "\n",
    "## Begin Question 1.2 (10 points)\n",
    "\n",
    "For each categorical feature in each dataset, plot the distibution of the top 10 values. For those with more than 10 values how many are there. \n",
    "\n",
    "---\n",
    "\n",
    "### Answer"
   ]
  },
  {
   "cell_type": "code",
   "execution_count": null,
   "metadata": {},
   "outputs": [],
   "source": []
  },
  {
   "cell_type": "markdown",
   "metadata": {},
   "source": [
    "---\n",
    "## End Question 1.2\n",
    "\n",
    "\n",
    "## Begin Question 1.3 (10 points)\n",
    "Plot the distribution of number of previous applications for all the datasets involving previous loan applications. Are the previous loans in either application train or test? Are there duplicate applications in application_train?\n",
    "\n",
    "---\n",
    "### Answer"
   ]
  },
  {
   "cell_type": "code",
   "execution_count": null,
   "metadata": {},
   "outputs": [],
   "source": []
  },
  {
   "cell_type": "markdown",
   "metadata": {},
   "source": [
    "---\n",
    "\n",
    "## End Question 1.3\n",
    "\n",
    "\n",
    "## Begin Question 1.4 (35 points)\n",
    "\n",
    "Join all the datasets by sorting the on disk and joining them as appropriate. Generate one record for each application using all available prior data. (Hint, use shell commands sort and join. DO NOT Use a database)\n",
    "\n",
    "Verify that you have not lost any records.\n",
    "\n",
    "---\n",
    "### Answer"
   ]
  },
  {
   "cell_type": "code",
   "execution_count": null,
   "metadata": {},
   "outputs": [],
   "source": []
  },
  {
   "cell_type": "markdown",
   "metadata": {},
   "source": [
    "---\n",
    "\n",
    "## End Exercise 1"
   ]
  },
  {
   "cell_type": "code",
   "execution_count": 4,
   "metadata": {},
   "outputs": [
    {
     "name": "stdout",
     "output_type": "stream",
     "text": [
      "Assignment 4.ipynb\n",
      "README.md\n"
     ]
    }
   ],
   "source": [
    "print `ls`"
   ]
  },
  {
   "cell_type": "markdown",
   "metadata": {},
   "source": [
    "# Exercise 2 (40 Points)\n",
    "\n",
    "We will look at various features and try some simple classifiers to get an understanding of the data. \n",
    "\n",
    "## Question 2.1 (10 Points)\n",
    "Construct numeric features for all features in the dataset. For example, use binary (one-hot encoding) for categorical features. Since the data is in JSON, there is no need to have an index, just set a unique name for all the features. \n",
    "\n",
    "How many unique features do you have in your dataset?\n",
    "\n",
    "What is the average number of non-zero examples for your features? Plot a distribution\n",
    "\n",
    "---\n",
    "### Answer"
   ]
  },
  {
   "cell_type": "code",
   "execution_count": null,
   "metadata": {},
   "outputs": [],
   "source": []
  },
  {
   "cell_type": "markdown",
   "metadata": {},
   "source": [
    "---\n",
    "## End Question 2.1\n",
    "\n",
    "\n",
    "## Begin Question 2.2 (5 Points)\n",
    "\n",
    "Create a classifier that always returns the majority class label. Calculate its accuracy.\n",
    "\n",
    "--- \n",
    "### Answer"
   ]
  },
  {
   "cell_type": "code",
   "execution_count": null,
   "metadata": {},
   "outputs": [],
   "source": []
  },
  {
   "cell_type": "markdown",
   "metadata": {},
   "source": [
    "--- \n",
    "## End Question 2.2 \n",
    "\n",
    "\n",
    "## Begin Question 2.3 (5 points)\n",
    "\n",
    "Create a classifier that randomly picks a class label with probability equal to the class distribution. Calculate its accuracy. Do you notice any difference to the previous classifier?\n",
    "\n",
    "---\n",
    "\n",
    "### Answer"
   ]
  },
  {
   "cell_type": "code",
   "execution_count": null,
   "metadata": {},
   "outputs": [],
   "source": []
  },
  {
   "cell_type": "markdown",
   "metadata": {},
   "source": [
    "---\n",
    "## End Question 2.3\n",
    "\n",
    "## Begin Question 2.4 (20 points)\n",
    "Train your Naive Bayes classifier on this dataset using the Normal distribution instead of the Bernoulli distribution for the feature-specific class priors. Calculate the accuracy now.\n",
    "\n",
    "---\n",
    "### Answer"
   ]
  },
  {
   "cell_type": "code",
   "execution_count": null,
   "metadata": {},
   "outputs": [],
   "source": []
  },
  {
   "cell_type": "markdown",
   "metadata": {},
   "source": [
    "## End Exercise 2\n",
    "\n"
   ]
  }
 ],
 "metadata": {
  "kernelspec": {
   "display_name": "Ruby 2.3.1",
   "language": "ruby",
   "name": "ruby"
  },
  "language_info": {
   "file_extension": ".rb",
   "mimetype": "application/x-ruby",
   "name": "ruby",
   "version": "2.3.1"
  }
 },
 "nbformat": 4,
 "nbformat_minor": 2
}
