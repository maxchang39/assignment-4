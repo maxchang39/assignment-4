{
 "cells": [
  {
   "cell_type": "markdown",
   "metadata": {},
   "source": [
    "# Assignment 4: Final Project Preparation\n",
    "\n"
   ]
  },
  {
   "cell_type": "markdown",
   "metadata": {},
   "source": [
    "# Exercise 1: Exploratory Data Analysis (60 points)\n",
    "\n",
    "We are going to do some exploratory analysis on the data to see what is available. This data is from a Kaggle competition: https://www.kaggle.com/c/home-credit-default-risk/data, and we are not going to be entering the competition in this exercise, we should come up with something reasonable. See the associated Final Project note on the acceptance criteria and requirements. \n"
   ]
  },
  {
   "cell_type": "code",
   "execution_count": null,
   "metadata": {},
   "outputs": [],
   "source": [
    "require 'open-uri'\n",
    "require 'json'\n",
    "require 'daru'\n",
    "require 'distribution'\n",
    "require 'sqlite3' ##This should return true if you have SQLite3 installed"
   ]
  },
  {
   "cell_type": "markdown",
   "metadata": {},
   "source": [
    "Let's start off by downloading the data. If this cell doesn't work, download the file manually [from here](https://northeastern-my.sharepoint.com/:u:/g/personal/abagher_northeastern_edu/EUrp99lNLEhFnbuOoh_zJo0B14uOS0fHKb30sdKcbhEmyA?e=p0iTwg)."
   ]
  },
  {
   "cell_type": "code",
   "execution_count": null,
   "metadata": {},
   "outputs": [],
   "source": [
    "require 'fileutils'\n",
    "dir = \"#{ENV['HOME']}/cs6140/final_project\"\n",
    "\n",
    "FileUtils.mkdir_p(dir)\n",
    "[\"HomeCredit_columns_description.csv\"].each do |file|\n",
    "  unless File.exists? \"#{dir}/#{file}\"\n",
    "    download = open(\"https://s3-us-west-1.amazonaws.com/abagher-public/cs6140/2018-summer/final-project/#{file}\")\n",
    "    IO.copy_stream(download, \"#{dir}/#{file}\")\n",
    "  end\n",
    "end\n",
    "\n",
    "puts File.exists?(\"#{dir}/HomeCredit_columns_description.csv\")\n",
    "puts File.exists?(\"#{dir}/credit_risk_data.db\")"
   ]
  },
  {
   "cell_type": "code",
   "execution_count": null,
   "metadata": {},
   "outputs": [],
   "source": [
    "db = SQLite3::Database.new \"#{dir}/credit_risk_data.db\"\n",
    "db.results_as_hash = true"
   ]
  },
  {
   "cell_type": "code",
   "execution_count": null,
   "metadata": {},
   "outputs": [],
   "source": [
    "db.execute(\"select * from application_train\") do |row|\n",
    "  puts row.to_json\n",
    "  break\n",
    "end"
   ]
  },
  {
   "cell_type": "markdown",
   "metadata": {},
   "source": [
    "## Begin Question 1.1 (5 points)\n",
    "\n",
    "Plot the class distribution of the \"target\" class for \"application_train\".\n",
    "\n",
    "### Answer"
   ]
  },
  {
   "cell_type": "code",
   "execution_count": null,
   "metadata": {},
   "outputs": [],
   "source": [
    "def plot_histogram db, col\n",
    "  x = []\n",
    "  y = []\n",
    "  db.execute(\"select #{col} as #{col}, count(*) as freq from application_train group by #{col} order by freq desc limit 10\") do |row|\n",
    "    x << row[col].to_s\n",
    "    y << row[\"freq\"]\n",
    "  end\n",
    "\n",
    "  df =  Daru::DataFrame.new({x: x, y: y})\n",
    "  df.to_category :x\n",
    "  df.plot(type: :bar, x: :x, y: :y) do |plot, diagram|\n",
    "    plot.x_label col\n",
    "    plot.y_label \"Frequency of #{col}\"\n",
    "  end\n",
    "end\n",
    "plot_histogram db, 'target'\n"
   ]
  },
  {
   "cell_type": "markdown",
   "metadata": {},
   "source": [
    "---\n",
    "## End Question 1.1\n",
    "\n",
    "\n",
    "## Begin Question 1.2 (10 points)\n",
    "\n",
    "For each categorical feature in each dataset, plot the distibution of the top 10 values. For those with more than 10 values how many are there. \n",
    "\n",
    "---\n",
    "\n",
    "### Answer"
   ]
  },
  {
   "cell_type": "code",
   "execution_count": null,
   "metadata": {},
   "outputs": [],
   "source": [
    "cat_columns = db.execute(\"pragma table_info(application_train)\").select do |row|\n",
    "  row[\"type\"] == \"TEXT\"\n",
    "end.collect {|r| r[\"name\"]}"
   ]
  },
  {
   "cell_type": "code",
   "execution_count": 36,
   "metadata": {},
   "outputs": [
    {
     "name": "stdout",
     "output_type": "stream",
     "text": [
      "NAME_CONTRACT_TYPE\t2\n",
      "CODE_GENDER\t3\n",
      "FLAG_OWN_CAR\t2\n",
      "FLAG_OWN_REALTY\t2\n",
      "NAME_TYPE_SUITE\t8\n",
      "NAME_INCOME_TYPE\t8\n",
      "NAME_EDUCATION_TYPE\t5\n",
      "NAME_FAMILY_STATUS\t6\n",
      "NAME_HOUSING_TYPE\t6\n",
      "OCCUPATION_TYPE\t19\n",
      "WEEKDAY_APPR_PROCESS_START\t7\n",
      "ORGANIZATION_TYPE\t58\n",
      "EMERGENCYSTATE_MODE\t3\n",
      "OBS_30_CNT_SOCIAL_CIRCLE\t34\n",
      "DEF_30_CNT_SOCIAL_CIRCLE\t11\n",
      "OBS_60_CNT_SOCIAL_CIRCLE\t34\n",
      "DEF_60_CNT_SOCIAL_CIRCLE\t10\n"
     ]
    },
    {
     "data": {
      "text/plain": [
       "1"
      ]
     },
     "execution_count": 36,
     "metadata": {},
     "output_type": "execute_result"
    }
   ],
   "source": [
    "cat_columns.collect do |col|\n",
    "  db.execute(\"select count(distinct #{col}) as n_val from application_train\") do |row|\n",
    "    puts [col, row[\"n_val\"]].join(\"\\t\")\n",
    "  end\n",
    "end\n",
    "1"
   ]
  },
  {
   "cell_type": "code",
   "execution_count": 37,
   "metadata": {},
   "outputs": [
    {
     "data": {
      "text/html": [
       "<div id='vis-337951a5-6d42-4f8e-a1c9-5bfd2bb45a25'></div>\n",
       "<script>\n",
       "(function(){\n",
       "    var render = function(){\n",
       "        var model = {\"panes\":[{\"diagrams\":[{\"type\":\"bar\",\"options\":{\"x\":\"x\",\"y\":\"y\"},\"data\":\"4c996c37-69eb-4c95-929f-bc5324fc4f8f\"}],\"options\":{\"x_label\":\"NAME_CONTRACT_TYPE\",\"y_label\":\"Frequency of NAME_CONTRACT_TYPE\",\"width\":700,\"xrange\":[\"Cash loans\",\"Revolving loans\"],\"yrange\":[0,278232]}}],\"data\":{\"4c996c37-69eb-4c95-929f-bc5324fc4f8f\":[{\"x\":\"Cash loans\",\"y\":278232},{\"x\":\"Revolving loans\",\"y\":29279}]},\"extension\":[]}\n",
       "        var id_name = '#vis-337951a5-6d42-4f8e-a1c9-5bfd2bb45a25';\n",
       "        Nyaplot.core.parse(model, id_name);\n",
       "\n",
       "        require(['downloadable'], function(downloadable){\n",
       "          var svg = d3.select(id_name).select(\"svg\");\n",
       "\t  if(!svg.empty())\n",
       "\t    svg.call(downloadable().filename('fig'));\n",
       "\t});\n",
       "    };\n",
       "    if(window['Nyaplot']==undefined){\n",
       "        window.addEventListener('load_nyaplot', render, false);\n",
       "\treturn;\n",
       "    } else {\n",
       "       render();\n",
       "    }\n",
       "})();\n",
       "</script>\n"
      ],
      "text/plain": [
       "#<Nyaplot::Plot:0x00000013c3bd48 @properties={:diagrams=>[#<Nyaplot::Diagram:0x00000013c3a1f0 @properties={:type=>:bar, :options=>{:x=>:x, :y=>:y}, :data=>\"4c996c37-69eb-4c95-929f-bc5324fc4f8f\"}, @xrange=[\"Cash loans\", \"Revolving loans\"], @yrange=[0, 278232]>], :options=>{:x_label=>\"NAME_CONTRACT_TYPE\", :y_label=>\"Frequency of NAME_CONTRACT_TYPE\", :width=>700, :xrange=>[\"Cash loans\", \"Revolving loans\"], :yrange=>[0, 278232]}}>"
      ]
     },
     "execution_count": 37,
     "metadata": {},
     "output_type": "execute_result"
    }
   ],
   "source": [
    "plot_histogram db, 'NAME_CONTRACT_TYPE'"
   ]
  },
  {
   "cell_type": "code",
   "execution_count": 38,
   "metadata": {},
   "outputs": [
    {
     "data": {
      "text/html": [
       "<div id='vis-504b309c-b99c-408e-b9ba-924e7d386241'></div>\n",
       "<script>\n",
       "(function(){\n",
       "    var render = function(){\n",
       "        var model = {\"panes\":[{\"diagrams\":[{\"type\":\"bar\",\"options\":{\"x\":\"x\",\"y\":\"y\"},\"data\":\"31f3f1fc-b185-459e-9718-90c8d8585679\"}],\"options\":{\"x_label\":\"CODE_GENDER\",\"y_label\":\"Frequency of CODE_GENDER\",\"width\":700,\"xrange\":[\"F\",\"M\",\"XNA\"],\"yrange\":[0,202448]}}],\"data\":{\"31f3f1fc-b185-459e-9718-90c8d8585679\":[{\"x\":\"F\",\"y\":202448},{\"x\":\"M\",\"y\":105059},{\"x\":\"XNA\",\"y\":4}]},\"extension\":[]}\n",
       "        var id_name = '#vis-504b309c-b99c-408e-b9ba-924e7d386241';\n",
       "        Nyaplot.core.parse(model, id_name);\n",
       "\n",
       "        require(['downloadable'], function(downloadable){\n",
       "          var svg = d3.select(id_name).select(\"svg\");\n",
       "\t  if(!svg.empty())\n",
       "\t    svg.call(downloadable().filename('fig'));\n",
       "\t});\n",
       "    };\n",
       "    if(window['Nyaplot']==undefined){\n",
       "        window.addEventListener('load_nyaplot', render, false);\n",
       "\treturn;\n",
       "    } else {\n",
       "       render();\n",
       "    }\n",
       "})();\n",
       "</script>\n"
      ],
      "text/plain": [
       "#<Nyaplot::Plot:0x00000013c670b0 @properties={:diagrams=>[#<Nyaplot::Diagram:0x00000013c64a90 @properties={:type=>:bar, :options=>{:x=>:x, :y=>:y}, :data=>\"31f3f1fc-b185-459e-9718-90c8d8585679\"}, @xrange=[\"F\", \"M\", \"XNA\"], @yrange=[0, 202448]>], :options=>{:x_label=>\"CODE_GENDER\", :y_label=>\"Frequency of CODE_GENDER\", :width=>700, :xrange=>[\"F\", \"M\", \"XNA\"], :yrange=>[0, 202448]}}>"
      ]
     },
     "execution_count": 38,
     "metadata": {},
     "output_type": "execute_result"
    }
   ],
   "source": [
    "plot_histogram db, 'CODE_GENDER'"
   ]
  },
  {
   "cell_type": "code",
   "execution_count": 39,
   "metadata": {},
   "outputs": [
    {
     "data": {
      "text/html": [
       "<div id='vis-e00c3509-c5c0-4459-824f-aa2049e40ebf'></div>\n",
       "<script>\n",
       "(function(){\n",
       "    var render = function(){\n",
       "        var model = {\"panes\":[{\"diagrams\":[{\"type\":\"bar\",\"options\":{\"x\":\"x\",\"y\":\"y\"},\"data\":\"50444d17-5386-457a-87e7-772b7ef3fddf\"}],\"options\":{\"x_label\":\"FLAG_OWN_CAR\",\"y_label\":\"Frequency of FLAG_OWN_CAR\",\"width\":700,\"xrange\":[\"N\",\"Y\"],\"yrange\":[0,202924]}}],\"data\":{\"50444d17-5386-457a-87e7-772b7ef3fddf\":[{\"x\":\"N\",\"y\":202924},{\"x\":\"Y\",\"y\":104587}]},\"extension\":[]}\n",
       "        var id_name = '#vis-e00c3509-c5c0-4459-824f-aa2049e40ebf';\n",
       "        Nyaplot.core.parse(model, id_name);\n",
       "\n",
       "        require(['downloadable'], function(downloadable){\n",
       "          var svg = d3.select(id_name).select(\"svg\");\n",
       "\t  if(!svg.empty())\n",
       "\t    svg.call(downloadable().filename('fig'));\n",
       "\t});\n",
       "    };\n",
       "    if(window['Nyaplot']==undefined){\n",
       "        window.addEventListener('load_nyaplot', render, false);\n",
       "\treturn;\n",
       "    } else {\n",
       "       render();\n",
       "    }\n",
       "})();\n",
       "</script>\n"
      ],
      "text/plain": [
       "#<Nyaplot::Plot:0x00000013c7f660 @properties={:diagrams=>[#<Nyaplot::Diagram:0x00000013c7db08 @properties={:type=>:bar, :options=>{:x=>:x, :y=>:y}, :data=>\"50444d17-5386-457a-87e7-772b7ef3fddf\"}, @xrange=[\"N\", \"Y\"], @yrange=[0, 202924]>], :options=>{:x_label=>\"FLAG_OWN_CAR\", :y_label=>\"Frequency of FLAG_OWN_CAR\", :width=>700, :xrange=>[\"N\", \"Y\"], :yrange=>[0, 202924]}}>"
      ]
     },
     "execution_count": 39,
     "metadata": {},
     "output_type": "execute_result"
    }
   ],
   "source": [
    "plot_histogram db, 'FLAG_OWN_CAR'"
   ]
  },
  {
   "cell_type": "code",
   "execution_count": 40,
   "metadata": {},
   "outputs": [
    {
     "data": {
      "text/html": [
       "<div id='vis-7bafb572-977c-4da2-9278-ec444b5c9bb0'></div>\n",
       "<script>\n",
       "(function(){\n",
       "    var render = function(){\n",
       "        var model = {\"panes\":[{\"diagrams\":[{\"type\":\"bar\",\"options\":{\"x\":\"x\",\"y\":\"y\"},\"data\":\"e99351d0-ee83-438f-9183-472995c9767b\"}],\"options\":{\"x_label\":\"FLAG_OWN_REALTY\",\"y_label\":\"Frequency of FLAG_OWN_REALTY\",\"width\":700,\"xrange\":[\"Y\",\"N\"],\"yrange\":[0,213312]}}],\"data\":{\"e99351d0-ee83-438f-9183-472995c9767b\":[{\"x\":\"Y\",\"y\":213312},{\"x\":\"N\",\"y\":94199}]},\"extension\":[]}\n",
       "        var id_name = '#vis-7bafb572-977c-4da2-9278-ec444b5c9bb0';\n",
       "        Nyaplot.core.parse(model, id_name);\n",
       "\n",
       "        require(['downloadable'], function(downloadable){\n",
       "          var svg = d3.select(id_name).select(\"svg\");\n",
       "\t  if(!svg.empty())\n",
       "\t    svg.call(downloadable().filename('fig'));\n",
       "\t});\n",
       "    };\n",
       "    if(window['Nyaplot']==undefined){\n",
       "        window.addEventListener('load_nyaplot', render, false);\n",
       "\treturn;\n",
       "    } else {\n",
       "       render();\n",
       "    }\n",
       "})();\n",
       "</script>\n"
      ],
      "text/plain": [
       "#<Nyaplot::Plot:0x00000013c92260 @properties={:diagrams=>[#<Nyaplot::Diagram:0x00000013c90708 @properties={:type=>:bar, :options=>{:x=>:x, :y=>:y}, :data=>\"e99351d0-ee83-438f-9183-472995c9767b\"}, @xrange=[\"Y\", \"N\"], @yrange=[0, 213312]>], :options=>{:x_label=>\"FLAG_OWN_REALTY\", :y_label=>\"Frequency of FLAG_OWN_REALTY\", :width=>700, :xrange=>[\"Y\", \"N\"], :yrange=>[0, 213312]}}>"
      ]
     },
     "execution_count": 40,
     "metadata": {},
     "output_type": "execute_result"
    }
   ],
   "source": [
    "plot_histogram db, 'FLAG_OWN_REALTY'"
   ]
  },
  {
   "cell_type": "code",
   "execution_count": 41,
   "metadata": {},
   "outputs": [
    {
     "data": {
      "text/html": [
       "<div id='vis-15c7aee6-b0f1-4748-a17a-9e7cfcc15ad4'></div>\n",
       "<script>\n",
       "(function(){\n",
       "    var render = function(){\n",
       "        var model = {\"panes\":[{\"diagrams\":[{\"type\":\"bar\",\"options\":{\"x\":\"x\",\"y\":\"y\"},\"data\":\"9c3a18dd-83fa-4530-acf1-d0d1b4745fa0\"}],\"options\":{\"x_label\":\"NAME_TYPE_SUITE\",\"y_label\":\"Frequency of NAME_TYPE_SUITE\",\"width\":700,\"xrange\":[\"Unaccompanied\",\"Family\",\"Spouse, partner\",\"Children\",\"Other_B\",\"\",\"Other_A\",\"Group of people\"],\"yrange\":[0,248526]}}],\"data\":{\"9c3a18dd-83fa-4530-acf1-d0d1b4745fa0\":[{\"x\":\"Unaccompanied\",\"y\":248526},{\"x\":\"Family\",\"y\":40149},{\"x\":\"Spouse, partner\",\"y\":11370},{\"x\":\"Children\",\"y\":3267},{\"x\":\"Other_B\",\"y\":1770},{\"x\":\"\",\"y\":1292},{\"x\":\"Other_A\",\"y\":866},{\"x\":\"Group of people\",\"y\":271}]},\"extension\":[]}\n",
       "        var id_name = '#vis-15c7aee6-b0f1-4748-a17a-9e7cfcc15ad4';\n",
       "        Nyaplot.core.parse(model, id_name);\n",
       "\n",
       "        require(['downloadable'], function(downloadable){\n",
       "          var svg = d3.select(id_name).select(\"svg\");\n",
       "\t  if(!svg.empty())\n",
       "\t    svg.call(downloadable().filename('fig'));\n",
       "\t});\n",
       "    };\n",
       "    if(window['Nyaplot']==undefined){\n",
       "        window.addEventListener('load_nyaplot', render, false);\n",
       "\treturn;\n",
       "    } else {\n",
       "       render();\n",
       "    }\n",
       "})();\n",
       "</script>\n"
      ],
      "text/plain": [
       "#<Nyaplot::Plot:0x00000013c01918 @properties={:diagrams=>[#<Nyaplot::Diagram:0x00000013bfb770 @properties={:type=>:bar, :options=>{:x=>:x, :y=>:y}, :data=>\"9c3a18dd-83fa-4530-acf1-d0d1b4745fa0\"}, @xrange=[\"Unaccompanied\", \"Family\", \"Spouse, partner\", \"Children\", \"Other_B\", \"\", \"Other_A\", \"Group of people\"], @yrange=[0, 248526]>], :options=>{:x_label=>\"NAME_TYPE_SUITE\", :y_label=>\"Frequency of NAME_TYPE_SUITE\", :width=>700, :xrange=>[\"Unaccompanied\", \"Family\", \"Spouse, partner\", \"Children\", \"Other_B\", \"\", \"Other_A\", \"Group of people\"], :yrange=>[0, 248526]}}>"
      ]
     },
     "execution_count": 41,
     "metadata": {},
     "output_type": "execute_result"
    }
   ],
   "source": [
    "plot_histogram db, 'NAME_TYPE_SUITE'"
   ]
  },
  {
   "cell_type": "code",
   "execution_count": 42,
   "metadata": {},
   "outputs": [
    {
     "data": {
      "text/html": [
       "<div id='vis-cb98e782-11b4-4de0-a546-af3d76d8c29b'></div>\n",
       "<script>\n",
       "(function(){\n",
       "    var render = function(){\n",
       "        var model = {\"panes\":[{\"diagrams\":[{\"type\":\"bar\",\"options\":{\"x\":\"x\",\"y\":\"y\"},\"data\":\"703644df-c3f7-426b-8156-1b06da58d923\"}],\"options\":{\"x_label\":\"NAME_INCOME_TYPE\",\"y_label\":\"Frequency of NAME_INCOME_TYPE\",\"width\":700,\"xrange\":[\"Working\",\"Commercial associate\",\"Pensioner\",\"State servant\",\"Unemployed\",\"Student\",\"Businessman\",\"Maternity leave\"],\"yrange\":[0,158774]}}],\"data\":{\"703644df-c3f7-426b-8156-1b06da58d923\":[{\"x\":\"Working\",\"y\":158774},{\"x\":\"Commercial associate\",\"y\":71617},{\"x\":\"Pensioner\",\"y\":55362},{\"x\":\"State servant\",\"y\":21703},{\"x\":\"Unemployed\",\"y\":22},{\"x\":\"Student\",\"y\":18},{\"x\":\"Businessman\",\"y\":10},{\"x\":\"Maternity leave\",\"y\":5}]},\"extension\":[]}\n",
       "        var id_name = '#vis-cb98e782-11b4-4de0-a546-af3d76d8c29b';\n",
       "        Nyaplot.core.parse(model, id_name);\n",
       "\n",
       "        require(['downloadable'], function(downloadable){\n",
       "          var svg = d3.select(id_name).select(\"svg\");\n",
       "\t  if(!svg.empty())\n",
       "\t    svg.call(downloadable().filename('fig'));\n",
       "\t});\n",
       "    };\n",
       "    if(window['Nyaplot']==undefined){\n",
       "        window.addEventListener('load_nyaplot', render, false);\n",
       "\treturn;\n",
       "    } else {\n",
       "       render();\n",
       "    }\n",
       "})();\n",
       "</script>\n"
      ],
      "text/plain": [
       "#<Nyaplot::Plot:0x00000013c21038 @properties={:diagrams=>[#<Nyaplot::Diagram:0x00000013c1b048 @properties={:type=>:bar, :options=>{:x=>:x, :y=>:y}, :data=>\"703644df-c3f7-426b-8156-1b06da58d923\"}, @xrange=[\"Working\", \"Commercial associate\", \"Pensioner\", \"State servant\", \"Unemployed\", \"Student\", \"Businessman\", \"Maternity leave\"], @yrange=[0, 158774]>], :options=>{:x_label=>\"NAME_INCOME_TYPE\", :y_label=>\"Frequency of NAME_INCOME_TYPE\", :width=>700, :xrange=>[\"Working\", \"Commercial associate\", \"Pensioner\", \"State servant\", \"Unemployed\", \"Student\", \"Businessman\", \"Maternity leave\"], :yrange=>[0, 158774]}}>"
      ]
     },
     "execution_count": 42,
     "metadata": {},
     "output_type": "execute_result"
    }
   ],
   "source": [
    "plot_histogram db, 'NAME_INCOME_TYPE'"
   ]
  },
  {
   "cell_type": "code",
   "execution_count": 43,
   "metadata": {},
   "outputs": [
    {
     "data": {
      "text/html": [
       "<div id='vis-1b6d0bdb-2d88-49b0-9298-0e154596b4d2'></div>\n",
       "<script>\n",
       "(function(){\n",
       "    var render = function(){\n",
       "        var model = {\"panes\":[{\"diagrams\":[{\"type\":\"bar\",\"options\":{\"x\":\"x\",\"y\":\"y\"},\"data\":\"842c5bbc-0118-41ba-80fe-3a0db1b8c6aa\"}],\"options\":{\"x_label\":\"NAME_EDUCATION_TYPE\",\"y_label\":\"Frequency of NAME_EDUCATION_TYPE\",\"width\":700,\"xrange\":[\"Secondary / secondary special\",\"Higher education\",\"Incomplete higher\",\"Lower secondary\",\"Academic degree\"],\"yrange\":[0,218391]}}],\"data\":{\"842c5bbc-0118-41ba-80fe-3a0db1b8c6aa\":[{\"x\":\"Secondary / secondary special\",\"y\":218391},{\"x\":\"Higher education\",\"y\":74863},{\"x\":\"Incomplete higher\",\"y\":10277},{\"x\":\"Lower secondary\",\"y\":3816},{\"x\":\"Academic degree\",\"y\":164}]},\"extension\":[]}\n",
       "        var id_name = '#vis-1b6d0bdb-2d88-49b0-9298-0e154596b4d2';\n",
       "        Nyaplot.core.parse(model, id_name);\n",
       "\n",
       "        require(['downloadable'], function(downloadable){\n",
       "          var svg = d3.select(id_name).select(\"svg\");\n",
       "\t  if(!svg.empty())\n",
       "\t    svg.call(downloadable().filename('fig'));\n",
       "\t});\n",
       "    };\n",
       "    if(window['Nyaplot']==undefined){\n",
       "        window.addEventListener('load_nyaplot', render, false);\n",
       "\treturn;\n",
       "    } else {\n",
       "       render();\n",
       "    }\n",
       "})();\n",
       "</script>\n"
      ],
      "text/plain": [
       "#<Nyaplot::Plot:0x00000013b85200 @properties={:diagrams=>[#<Nyaplot::Diagram:0x00000013cf5018 @properties={:type=>:bar, :options=>{:x=>:x, :y=>:y}, :data=>\"842c5bbc-0118-41ba-80fe-3a0db1b8c6aa\"}, @xrange=[\"Secondary / secondary special\", \"Higher education\", \"Incomplete higher\", \"Lower secondary\", \"Academic degree\"], @yrange=[0, 218391]>], :options=>{:x_label=>\"NAME_EDUCATION_TYPE\", :y_label=>\"Frequency of NAME_EDUCATION_TYPE\", :width=>700, :xrange=>[\"Secondary / secondary special\", \"Higher education\", \"Incomplete higher\", \"Lower secondary\", \"Academic degree\"], :yrange=>[0, 218391]}}>"
      ]
     },
     "execution_count": 43,
     "metadata": {},
     "output_type": "execute_result"
    }
   ],
   "source": [
    "plot_histogram db, 'NAME_EDUCATION_TYPE'"
   ]
  },
  {
   "cell_type": "code",
   "execution_count": 44,
   "metadata": {},
   "outputs": [
    {
     "data": {
      "text/html": [
       "<div id='vis-ec4beae0-c0c0-440b-9ce0-73c352358785'></div>\n",
       "<script>\n",
       "(function(){\n",
       "    var render = function(){\n",
       "        var model = {\"panes\":[{\"diagrams\":[{\"type\":\"bar\",\"options\":{\"x\":\"x\",\"y\":\"y\"},\"data\":\"ef412cac-afbf-4827-b5dd-4e398ebe4854\"}],\"options\":{\"x_label\":\"NAME_FAMILY_STATUS\",\"y_label\":\"Frequency of NAME_FAMILY_STATUS\",\"width\":700,\"xrange\":[\"Married\",\"Single / not married\",\"Civil marriage\",\"Separated\",\"Widow\",\"Unknown\"],\"yrange\":[0,196432]}}],\"data\":{\"ef412cac-afbf-4827-b5dd-4e398ebe4854\":[{\"x\":\"Married\",\"y\":196432},{\"x\":\"Single / not married\",\"y\":45444},{\"x\":\"Civil marriage\",\"y\":29775},{\"x\":\"Separated\",\"y\":19770},{\"x\":\"Widow\",\"y\":16088},{\"x\":\"Unknown\",\"y\":2}]},\"extension\":[]}\n",
       "        var id_name = '#vis-ec4beae0-c0c0-440b-9ce0-73c352358785';\n",
       "        Nyaplot.core.parse(model, id_name);\n",
       "\n",
       "        require(['downloadable'], function(downloadable){\n",
       "          var svg = d3.select(id_name).select(\"svg\");\n",
       "\t  if(!svg.empty())\n",
       "\t    svg.call(downloadable().filename('fig'));\n",
       "\t});\n",
       "    };\n",
       "    if(window['Nyaplot']==undefined){\n",
       "        window.addEventListener('load_nyaplot', render, false);\n",
       "\treturn;\n",
       "    } else {\n",
       "       render();\n",
       "    }\n",
       "})();\n",
       "</script>\n"
      ],
      "text/plain": [
       "#<Nyaplot::Plot:0x00000013d042e8 @properties={:diagrams=>[#<Nyaplot::Diagram:0x00000013b3b650 @properties={:type=>:bar, :options=>{:x=>:x, :y=>:y}, :data=>\"ef412cac-afbf-4827-b5dd-4e398ebe4854\"}, @xrange=[\"Married\", \"Single / not married\", \"Civil marriage\", \"Separated\", \"Widow\", \"Unknown\"], @yrange=[0, 196432]>], :options=>{:x_label=>\"NAME_FAMILY_STATUS\", :y_label=>\"Frequency of NAME_FAMILY_STATUS\", :width=>700, :xrange=>[\"Married\", \"Single / not married\", \"Civil marriage\", \"Separated\", \"Widow\", \"Unknown\"], :yrange=>[0, 196432]}}>"
      ]
     },
     "execution_count": 44,
     "metadata": {},
     "output_type": "execute_result"
    }
   ],
   "source": [
    "plot_histogram db, 'NAME_FAMILY_STATUS'"
   ]
  },
  {
   "cell_type": "code",
   "execution_count": 45,
   "metadata": {},
   "outputs": [
    {
     "data": {
      "text/html": [
       "<div id='vis-1ab6c99c-05de-462a-9d9e-e98b89b8388c'></div>\n",
       "<script>\n",
       "(function(){\n",
       "    var render = function(){\n",
       "        var model = {\"panes\":[{\"diagrams\":[{\"type\":\"bar\",\"options\":{\"x\":\"x\",\"y\":\"y\"},\"data\":\"6aed42dc-4488-447e-9ed0-dab42314e93e\"}],\"options\":{\"x_label\":\"NAME_HOUSING_TYPE\",\"y_label\":\"Frequency of NAME_HOUSING_TYPE\",\"width\":700,\"xrange\":[\"House / apartment\",\"With parents\",\"Municipal apartment\",\"Rented apartment\",\"Office apartment\",\"Co-op apartment\"],\"yrange\":[0,272868]}}],\"data\":{\"6aed42dc-4488-447e-9ed0-dab42314e93e\":[{\"x\":\"House / apartment\",\"y\":272868},{\"x\":\"With parents\",\"y\":14840},{\"x\":\"Municipal apartment\",\"y\":11183},{\"x\":\"Rented apartment\",\"y\":4881},{\"x\":\"Office apartment\",\"y\":2617},{\"x\":\"Co-op apartment\",\"y\":1122}]},\"extension\":[]}\n",
       "        var id_name = '#vis-1ab6c99c-05de-462a-9d9e-e98b89b8388c';\n",
       "        Nyaplot.core.parse(model, id_name);\n",
       "\n",
       "        require(['downloadable'], function(downloadable){\n",
       "          var svg = d3.select(id_name).select(\"svg\");\n",
       "\t  if(!svg.empty())\n",
       "\t    svg.call(downloadable().filename('fig'));\n",
       "\t});\n",
       "    };\n",
       "    if(window['Nyaplot']==undefined){\n",
       "        window.addEventListener('load_nyaplot', render, false);\n",
       "\treturn;\n",
       "    } else {\n",
       "       render();\n",
       "    }\n",
       "})();\n",
       "</script>\n"
      ],
      "text/plain": [
       "#<Nyaplot::Plot:0x00000013d0dac8 @properties={:diagrams=>[#<Nyaplot::Diagram:0x00000013b58ed0 @properties={:type=>:bar, :options=>{:x=>:x, :y=>:y}, :data=>\"6aed42dc-4488-447e-9ed0-dab42314e93e\"}, @xrange=[\"House / apartment\", \"With parents\", \"Municipal apartment\", \"Rented apartment\", \"Office apartment\", \"Co-op apartment\"], @yrange=[0, 272868]>], :options=>{:x_label=>\"NAME_HOUSING_TYPE\", :y_label=>\"Frequency of NAME_HOUSING_TYPE\", :width=>700, :xrange=>[\"House / apartment\", \"With parents\", \"Municipal apartment\", \"Rented apartment\", \"Office apartment\", \"Co-op apartment\"], :yrange=>[0, 272868]}}>"
      ]
     },
     "execution_count": 45,
     "metadata": {},
     "output_type": "execute_result"
    }
   ],
   "source": [
    "plot_histogram db, 'NAME_HOUSING_TYPE'"
   ]
  },
  {
   "cell_type": "code",
   "execution_count": 46,
   "metadata": {},
   "outputs": [
    {
     "data": {
      "text/html": [
       "<div id='vis-fdeb9f9e-06a0-49ae-9ba7-6347265b3de7'></div>\n",
       "<script>\n",
       "(function(){\n",
       "    var render = function(){\n",
       "        var model = {\"panes\":[{\"diagrams\":[{\"type\":\"bar\",\"options\":{\"x\":\"x\",\"y\":\"y\"},\"data\":\"23a1c0e7-b40d-4bbc-8654-d21b7b24c682\"}],\"options\":{\"x_label\":\"OCCUPATION_TYPE\",\"y_label\":\"Frequency of OCCUPATION_TYPE\",\"width\":700,\"xrange\":[\"\",\"Laborers\",\"Sales staff\",\"Core staff\",\"Managers\",\"Drivers\",\"High skill tech staff\",\"Accountants\",\"Medicine staff\",\"Security staff\"],\"yrange\":[0,96391]}}],\"data\":{\"23a1c0e7-b40d-4bbc-8654-d21b7b24c682\":[{\"x\":\"\",\"y\":96391},{\"x\":\"Laborers\",\"y\":55186},{\"x\":\"Sales staff\",\"y\":32102},{\"x\":\"Core staff\",\"y\":27570},{\"x\":\"Managers\",\"y\":21371},{\"x\":\"Drivers\",\"y\":18603},{\"x\":\"High skill tech staff\",\"y\":11380},{\"x\":\"Accountants\",\"y\":9813},{\"x\":\"Medicine staff\",\"y\":8537},{\"x\":\"Security staff\",\"y\":6721}]},\"extension\":[]}\n",
       "        var id_name = '#vis-fdeb9f9e-06a0-49ae-9ba7-6347265b3de7';\n",
       "        Nyaplot.core.parse(model, id_name);\n",
       "\n",
       "        require(['downloadable'], function(downloadable){\n",
       "          var svg = d3.select(id_name).select(\"svg\");\n",
       "\t  if(!svg.empty())\n",
       "\t    svg.call(downloadable().filename('fig'));\n",
       "\t});\n",
       "    };\n",
       "    if(window['Nyaplot']==undefined){\n",
       "        window.addEventListener('load_nyaplot', render, false);\n",
       "\treturn;\n",
       "    } else {\n",
       "       render();\n",
       "    }\n",
       "})();\n",
       "</script>\n"
      ],
      "text/plain": [
       "#<Nyaplot::Plot:0x00000013d56c00 @properties={:diagrams=>[#<Nyaplot::Diagram:0x00000013d372d8 @properties={:type=>:bar, :options=>{:x=>:x, :y=>:y}, :data=>\"23a1c0e7-b40d-4bbc-8654-d21b7b24c682\"}, @xrange=[\"\", \"Laborers\", \"Sales staff\", \"Core staff\", \"Managers\", \"Drivers\", \"High skill tech staff\", \"Accountants\", \"Medicine staff\", \"Security staff\"], @yrange=[0, 96391]>], :options=>{:x_label=>\"OCCUPATION_TYPE\", :y_label=>\"Frequency of OCCUPATION_TYPE\", :width=>700, :xrange=>[\"\", \"Laborers\", \"Sales staff\", \"Core staff\", \"Managers\", \"Drivers\", \"High skill tech staff\", \"Accountants\", \"Medicine staff\", \"Security staff\"], :yrange=>[0, 96391]}}>"
      ]
     },
     "execution_count": 46,
     "metadata": {},
     "output_type": "execute_result"
    }
   ],
   "source": [
    "plot_histogram db, 'OCCUPATION_TYPE'"
   ]
  },
  {
   "cell_type": "code",
   "execution_count": 47,
   "metadata": {},
   "outputs": [
    {
     "data": {
      "text/html": [
       "<div id='vis-640f1cf0-fcaf-434f-904c-5f42c43f825f'></div>\n",
       "<script>\n",
       "(function(){\n",
       "    var render = function(){\n",
       "        var model = {\"panes\":[{\"diagrams\":[{\"type\":\"bar\",\"options\":{\"x\":\"x\",\"y\":\"y\"},\"data\":\"938ecabf-7566-4d0a-85e8-d78f0d90be00\"}],\"options\":{\"x_label\":\"WEEKDAY_APPR_PROCESS_START\",\"y_label\":\"Frequency of WEEKDAY_APPR_PROCESS_START\",\"width\":700,\"xrange\":[\"TUESDAY\",\"WEDNESDAY\",\"MONDAY\",\"THURSDAY\",\"FRIDAY\",\"SATURDAY\",\"SUNDAY\"],\"yrange\":[0,53901]}}],\"data\":{\"938ecabf-7566-4d0a-85e8-d78f0d90be00\":[{\"x\":\"TUESDAY\",\"y\":53901},{\"x\":\"WEDNESDAY\",\"y\":51934},{\"x\":\"MONDAY\",\"y\":50714},{\"x\":\"THURSDAY\",\"y\":50591},{\"x\":\"FRIDAY\",\"y\":50338},{\"x\":\"SATURDAY\",\"y\":33852},{\"x\":\"SUNDAY\",\"y\":16181}]},\"extension\":[]}\n",
       "        var id_name = '#vis-640f1cf0-fcaf-434f-904c-5f42c43f825f';\n",
       "        Nyaplot.core.parse(model, id_name);\n",
       "\n",
       "        require(['downloadable'], function(downloadable){\n",
       "          var svg = d3.select(id_name).select(\"svg\");\n",
       "\t  if(!svg.empty())\n",
       "\t    svg.call(downloadable().filename('fig'));\n",
       "\t});\n",
       "    };\n",
       "    if(window['Nyaplot']==undefined){\n",
       "        window.addEventListener('load_nyaplot', render, false);\n",
       "\treturn;\n",
       "    } else {\n",
       "       render();\n",
       "    }\n",
       "})();\n",
       "</script>\n"
      ],
      "text/plain": [
       "#<Nyaplot::Plot:0x00000013d5a170 @properties={:diagrams=>[#<Nyaplot::Diagram:0x00000013aecb68 @properties={:type=>:bar, :options=>{:x=>:x, :y=>:y}, :data=>\"938ecabf-7566-4d0a-85e8-d78f0d90be00\"}, @xrange=[\"TUESDAY\", \"WEDNESDAY\", \"MONDAY\", \"THURSDAY\", \"FRIDAY\", \"SATURDAY\", \"SUNDAY\"], @yrange=[0, 53901]>], :options=>{:x_label=>\"WEEKDAY_APPR_PROCESS_START\", :y_label=>\"Frequency of WEEKDAY_APPR_PROCESS_START\", :width=>700, :xrange=>[\"TUESDAY\", \"WEDNESDAY\", \"MONDAY\", \"THURSDAY\", \"FRIDAY\", \"SATURDAY\", \"SUNDAY\"], :yrange=>[0, 53901]}}>"
      ]
     },
     "execution_count": 47,
     "metadata": {},
     "output_type": "execute_result"
    }
   ],
   "source": [
    "plot_histogram db, 'WEEKDAY_APPR_PROCESS_START'"
   ]
  },
  {
   "cell_type": "code",
   "execution_count": 48,
   "metadata": {},
   "outputs": [
    {
     "data": {
      "text/html": [
       "<div id='vis-cec06f97-666d-490a-bea6-0961519a26c9'></div>\n",
       "<script>\n",
       "(function(){\n",
       "    var render = function(){\n",
       "        var model = {\"panes\":[{\"diagrams\":[{\"type\":\"bar\",\"options\":{\"x\":\"x\",\"y\":\"y\"},\"data\":\"0e2086bc-710b-44cc-a236-7e63229e66a7\"}],\"options\":{\"x_label\":\"ORGANIZATION_TYPE\",\"y_label\":\"Frequency of ORGANIZATION_TYPE\",\"width\":700,\"xrange\":[\"Business Entity Type 3\",\"XNA\",\"Self-employed\",\"Other\",\"Medicine\",\"Business Entity Type 2\",\"Government\",\"School\",\"Trade: type 7\",\"Kindergarten\"],\"yrange\":[0,67992]}}],\"data\":{\"0e2086bc-710b-44cc-a236-7e63229e66a7\":[{\"x\":\"Business Entity Type 3\",\"y\":67992},{\"x\":\"XNA\",\"y\":55374},{\"x\":\"Self-employed\",\"y\":38412},{\"x\":\"Other\",\"y\":16683},{\"x\":\"Medicine\",\"y\":11193},{\"x\":\"Business Entity Type 2\",\"y\":10553},{\"x\":\"Government\",\"y\":10404},{\"x\":\"School\",\"y\":8893},{\"x\":\"Trade: type 7\",\"y\":7831},{\"x\":\"Kindergarten\",\"y\":6880}]},\"extension\":[]}\n",
       "        var id_name = '#vis-cec06f97-666d-490a-bea6-0961519a26c9';\n",
       "        Nyaplot.core.parse(model, id_name);\n",
       "\n",
       "        require(['downloadable'], function(downloadable){\n",
       "          var svg = d3.select(id_name).select(\"svg\");\n",
       "\t  if(!svg.empty())\n",
       "\t    svg.call(downloadable().filename('fig'));\n",
       "\t});\n",
       "    };\n",
       "    if(window['Nyaplot']==undefined){\n",
       "        window.addEventListener('load_nyaplot', render, false);\n",
       "\treturn;\n",
       "    } else {\n",
       "       render();\n",
       "    }\n",
       "})();\n",
       "</script>\n"
      ],
      "text/plain": [
       "#<Nyaplot::Plot:0x00000013d86748 @properties={:diagrams=>[#<Nyaplot::Diagram:0x00000013d62910 @properties={:type=>:bar, :options=>{:x=>:x, :y=>:y}, :data=>\"0e2086bc-710b-44cc-a236-7e63229e66a7\"}, @xrange=[\"Business Entity Type 3\", \"XNA\", \"Self-employed\", \"Other\", \"Medicine\", \"Business Entity Type 2\", \"Government\", \"School\", \"Trade: type 7\", \"Kindergarten\"], @yrange=[0, 67992]>], :options=>{:x_label=>\"ORGANIZATION_TYPE\", :y_label=>\"Frequency of ORGANIZATION_TYPE\", :width=>700, :xrange=>[\"Business Entity Type 3\", \"XNA\", \"Self-employed\", \"Other\", \"Medicine\", \"Business Entity Type 2\", \"Government\", \"School\", \"Trade: type 7\", \"Kindergarten\"], :yrange=>[0, 67992]}}>"
      ]
     },
     "execution_count": 48,
     "metadata": {},
     "output_type": "execute_result"
    }
   ],
   "source": [
    "plot_histogram db, 'ORGANIZATION_TYPE'"
   ]
  },
  {
   "cell_type": "code",
   "execution_count": 49,
   "metadata": {},
   "outputs": [
    {
     "data": {
      "text/html": [
       "<div id='vis-a7182feb-e7fa-4045-b7d7-cf3c4e4cb71b'></div>\n",
       "<script>\n",
       "(function(){\n",
       "    var render = function(){\n",
       "        var model = {\"panes\":[{\"diagrams\":[{\"type\":\"bar\",\"options\":{\"x\":\"x\",\"y\":\"y\"},\"data\":\"66ad380d-43ce-44b0-91c6-d6e557c79786\"}],\"options\":{\"x_label\":\"EMERGENCYSTATE_MODE\",\"y_label\":\"Frequency of EMERGENCYSTATE_MODE\",\"width\":700,\"xrange\":[\"No\",\"\",\"Yes\"],\"yrange\":[0,159428]}}],\"data\":{\"66ad380d-43ce-44b0-91c6-d6e557c79786\":[{\"x\":\"No\",\"y\":159428},{\"x\":\"\",\"y\":145755},{\"x\":\"Yes\",\"y\":2328}]},\"extension\":[]}\n",
       "        var id_name = '#vis-a7182feb-e7fa-4045-b7d7-cf3c4e4cb71b';\n",
       "        Nyaplot.core.parse(model, id_name);\n",
       "\n",
       "        require(['downloadable'], function(downloadable){\n",
       "          var svg = d3.select(id_name).select(\"svg\");\n",
       "\t  if(!svg.empty())\n",
       "\t    svg.call(downloadable().filename('fig'));\n",
       "\t});\n",
       "    };\n",
       "    if(window['Nyaplot']==undefined){\n",
       "        window.addEventListener('load_nyaplot', render, false);\n",
       "\treturn;\n",
       "    } else {\n",
       "       render();\n",
       "    }\n",
       "})();\n",
       "</script>\n"
      ],
      "text/plain": [
       "#<Nyaplot::Plot:0x00000013d71be0 @properties={:diagrams=>[#<Nyaplot::Diagram:0x00000013aaf588 @properties={:type=>:bar, :options=>{:x=>:x, :y=>:y}, :data=>\"66ad380d-43ce-44b0-91c6-d6e557c79786\"}, @xrange=[\"No\", \"\", \"Yes\"], @yrange=[0, 159428]>], :options=>{:x_label=>\"EMERGENCYSTATE_MODE\", :y_label=>\"Frequency of EMERGENCYSTATE_MODE\", :width=>700, :xrange=>[\"No\", \"\", \"Yes\"], :yrange=>[0, 159428]}}>"
      ]
     },
     "execution_count": 49,
     "metadata": {},
     "output_type": "execute_result"
    }
   ],
   "source": [
    "plot_histogram db, 'EMERGENCYSTATE_MODE'"
   ]
  },
  {
   "cell_type": "code",
   "execution_count": 50,
   "metadata": {},
   "outputs": [
    {
     "data": {
      "text/html": [
       "<div id='vis-19d5420a-2979-4c4b-98af-f16704749b1e'></div>\n",
       "<script>\n",
       "(function(){\n",
       "    var render = function(){\n",
       "        var model = {\"panes\":[{\"diagrams\":[{\"type\":\"bar\",\"options\":{\"x\":\"x\",\"y\":\"y\"},\"data\":\"aff99472-d760-45c1-abbf-0e95f4cf97bd\"}],\"options\":{\"x_label\":\"OBS_30_CNT_SOCIAL_CIRCLE\",\"y_label\":\"Frequency of OBS_30_CNT_SOCIAL_CIRCLE\",\"width\":700,\"xrange\":[\"0.0\",\"1.0\",\"2.0\",\"3.0\",\"4.0\",\"5.0\",\"6.0\",\"7.0\",\"8.0\",\"9.0\"],\"yrange\":[0,163910]}}],\"data\":{\"aff99472-d760-45c1-abbf-0e95f4cf97bd\":[{\"x\":\"0.0\",\"y\":163910},{\"x\":\"1.0\",\"y\":48783},{\"x\":\"2.0\",\"y\":29808},{\"x\":\"3.0\",\"y\":20322},{\"x\":\"4.0\",\"y\":14143},{\"x\":\"5.0\",\"y\":9553},{\"x\":\"6.0\",\"y\":6453},{\"x\":\"7.0\",\"y\":4390},{\"x\":\"8.0\",\"y\":2967},{\"x\":\"9.0\",\"y\":2003}]},\"extension\":[]}\n",
       "        var id_name = '#vis-19d5420a-2979-4c4b-98af-f16704749b1e';\n",
       "        Nyaplot.core.parse(model, id_name);\n",
       "\n",
       "        require(['downloadable'], function(downloadable){\n",
       "          var svg = d3.select(id_name).select(\"svg\");\n",
       "\t  if(!svg.empty())\n",
       "\t    svg.call(downloadable().filename('fig'));\n",
       "\t});\n",
       "    };\n",
       "    if(window['Nyaplot']==undefined){\n",
       "        window.addEventListener('load_nyaplot', render, false);\n",
       "\treturn;\n",
       "    } else {\n",
       "       render();\n",
       "    }\n",
       "})();\n",
       "</script>\n"
      ],
      "text/plain": [
       "#<Nyaplot::Plot:0x00000013aa4ca0 @properties={:diagrams=>[#<Nyaplot::Diagram:0x00000013ac5770 @properties={:type=>:bar, :options=>{:x=>:x, :y=>:y}, :data=>\"aff99472-d760-45c1-abbf-0e95f4cf97bd\"}, @xrange=[\"0.0\", \"1.0\", \"2.0\", \"3.0\", \"4.0\", \"5.0\", \"6.0\", \"7.0\", \"8.0\", \"9.0\"], @yrange=[0, 163910]>], :options=>{:x_label=>\"OBS_30_CNT_SOCIAL_CIRCLE\", :y_label=>\"Frequency of OBS_30_CNT_SOCIAL_CIRCLE\", :width=>700, :xrange=>[\"0.0\", \"1.0\", \"2.0\", \"3.0\", \"4.0\", \"5.0\", \"6.0\", \"7.0\", \"8.0\", \"9.0\"], :yrange=>[0, 163910]}}>"
      ]
     },
     "execution_count": 50,
     "metadata": {},
     "output_type": "execute_result"
    }
   ],
   "source": [
    "plot_histogram db, 'OBS_30_CNT_SOCIAL_CIRCLE'"
   ]
  },
  {
   "cell_type": "code",
   "execution_count": 51,
   "metadata": {},
   "outputs": [
    {
     "data": {
      "text/html": [
       "<div id='vis-761e6e02-45ac-4cdb-affd-88ff4de927a5'></div>\n",
       "<script>\n",
       "(function(){\n",
       "    var render = function(){\n",
       "        var model = {\"panes\":[{\"diagrams\":[{\"type\":\"bar\",\"options\":{\"x\":\"x\",\"y\":\"y\"},\"data\":\"a41ce6f0-1714-4ae0-a8c6-2a940b9cc4d0\"}],\"options\":{\"x_label\":\"DEF_30_CNT_SOCIAL_CIRCLE\",\"y_label\":\"Frequency of DEF_30_CNT_SOCIAL_CIRCLE\",\"width\":700,\"xrange\":[\"0.0\",\"1.0\",\"2.0\",\"3.0\",\"\",\"4.0\",\"5.0\",\"6.0\",\"34.0\",\"7.0\"],\"yrange\":[0,271324]}}],\"data\":{\"a41ce6f0-1714-4ae0-a8c6-2a940b9cc4d0\":[{\"x\":\"0.0\",\"y\":271324},{\"x\":\"1.0\",\"y\":28328},{\"x\":\"2.0\",\"y\":5323},{\"x\":\"3.0\",\"y\":1192},{\"x\":\"\",\"y\":1021},{\"x\":\"4.0\",\"y\":253},{\"x\":\"5.0\",\"y\":56},{\"x\":\"6.0\",\"y\":11},{\"x\":\"34.0\",\"y\":1},{\"x\":\"7.0\",\"y\":1}]},\"extension\":[]}\n",
       "        var id_name = '#vis-761e6e02-45ac-4cdb-affd-88ff4de927a5';\n",
       "        Nyaplot.core.parse(model, id_name);\n",
       "\n",
       "        require(['downloadable'], function(downloadable){\n",
       "          var svg = d3.select(id_name).select(\"svg\");\n",
       "\t  if(!svg.empty())\n",
       "\t    svg.call(downloadable().filename('fig'));\n",
       "\t});\n",
       "    };\n",
       "    if(window['Nyaplot']==undefined){\n",
       "        window.addEventListener('load_nyaplot', render, false);\n",
       "\treturn;\n",
       "    } else {\n",
       "       render();\n",
       "    }\n",
       "})();\n",
       "</script>\n"
      ],
      "text/plain": [
       "#<Nyaplot::Plot:0x00000013ddaa00 @properties={:diagrams=>[#<Nyaplot::Diagram:0x00000013dbf188 @properties={:type=>:bar, :options=>{:x=>:x, :y=>:y}, :data=>\"a41ce6f0-1714-4ae0-a8c6-2a940b9cc4d0\"}, @xrange=[\"0.0\", \"1.0\", \"2.0\", \"3.0\", \"\", \"4.0\", \"5.0\", \"6.0\", \"34.0\", \"7.0\"], @yrange=[0, 271324]>], :options=>{:x_label=>\"DEF_30_CNT_SOCIAL_CIRCLE\", :y_label=>\"Frequency of DEF_30_CNT_SOCIAL_CIRCLE\", :width=>700, :xrange=>[\"0.0\", \"1.0\", \"2.0\", \"3.0\", \"\", \"4.0\", \"5.0\", \"6.0\", \"34.0\", \"7.0\"], :yrange=>[0, 271324]}}>"
      ]
     },
     "execution_count": 51,
     "metadata": {},
     "output_type": "execute_result"
    }
   ],
   "source": [
    "plot_histogram db, 'DEF_30_CNT_SOCIAL_CIRCLE'"
   ]
  },
  {
   "cell_type": "code",
   "execution_count": 52,
   "metadata": {},
   "outputs": [
    {
     "data": {
      "text/html": [
       "<div id='vis-901b4b14-abaf-4d60-9ffd-6fdb42cb384c'></div>\n",
       "<script>\n",
       "(function(){\n",
       "    var render = function(){\n",
       "        var model = {\"panes\":[{\"diagrams\":[{\"type\":\"bar\",\"options\":{\"x\":\"x\",\"y\":\"y\"},\"data\":\"79025ca4-53ff-4f97-b953-dc96d78d00a2\"}],\"options\":{\"x_label\":\"OBS_60_CNT_SOCIAL_CIRCLE\",\"y_label\":\"Frequency of OBS_60_CNT_SOCIAL_CIRCLE\",\"width\":700,\"xrange\":[\"0.0\",\"1.0\",\"2.0\",\"3.0\",\"4.0\",\"5.0\",\"6.0\",\"7.0\",\"8.0\",\"9.0\"],\"yrange\":[0,164666]}}],\"data\":{\"79025ca4-53ff-4f97-b953-dc96d78d00a2\":[{\"x\":\"0.0\",\"y\":164666},{\"x\":\"1.0\",\"y\":48870},{\"x\":\"2.0\",\"y\":29766},{\"x\":\"3.0\",\"y\":20215},{\"x\":\"4.0\",\"y\":13946},{\"x\":\"5.0\",\"y\":9463},{\"x\":\"6.0\",\"y\":6349},{\"x\":\"7.0\",\"y\":4344},{\"x\":\"8.0\",\"y\":2886},{\"x\":\"9.0\",\"y\":1959}]},\"extension\":[]}\n",
       "        var id_name = '#vis-901b4b14-abaf-4d60-9ffd-6fdb42cb384c';\n",
       "        Nyaplot.core.parse(model, id_name);\n",
       "\n",
       "        require(['downloadable'], function(downloadable){\n",
       "          var svg = d3.select(id_name).select(\"svg\");\n",
       "\t  if(!svg.empty())\n",
       "\t    svg.call(downloadable().filename('fig'));\n",
       "\t});\n",
       "    };\n",
       "    if(window['Nyaplot']==undefined){\n",
       "        window.addEventListener('load_nyaplot', render, false);\n",
       "\treturn;\n",
       "    } else {\n",
       "       render();\n",
       "    }\n",
       "})();\n",
       "</script>\n"
      ],
      "text/plain": [
       "#<Nyaplot::Plot:0x00000013dcc6f8 @properties={:diagrams=>[#<Nyaplot::Diagram:0x00000013ddcdc8 @properties={:type=>:bar, :options=>{:x=>:x, :y=>:y}, :data=>\"79025ca4-53ff-4f97-b953-dc96d78d00a2\"}, @xrange=[\"0.0\", \"1.0\", \"2.0\", \"3.0\", \"4.0\", \"5.0\", \"6.0\", \"7.0\", \"8.0\", \"9.0\"], @yrange=[0, 164666]>], :options=>{:x_label=>\"OBS_60_CNT_SOCIAL_CIRCLE\", :y_label=>\"Frequency of OBS_60_CNT_SOCIAL_CIRCLE\", :width=>700, :xrange=>[\"0.0\", \"1.0\", \"2.0\", \"3.0\", \"4.0\", \"5.0\", \"6.0\", \"7.0\", \"8.0\", \"9.0\"], :yrange=>[0, 164666]}}>"
      ]
     },
     "execution_count": 52,
     "metadata": {},
     "output_type": "execute_result"
    }
   ],
   "source": [
    "plot_histogram db, 'OBS_60_CNT_SOCIAL_CIRCLE'"
   ]
  },
  {
   "cell_type": "code",
   "execution_count": 53,
   "metadata": {},
   "outputs": [
    {
     "data": {
      "text/html": [
       "<div id='vis-766ea90a-84a5-4032-af03-26a8259b59be'></div>\n",
       "<script>\n",
       "(function(){\n",
       "    var render = function(){\n",
       "        var model = {\"panes\":[{\"diagrams\":[{\"type\":\"bar\",\"options\":{\"x\":\"x\",\"y\":\"y\"},\"data\":\"6024b0cf-bca0-4096-83af-c3d5bb807703\"}],\"options\":{\"x_label\":\"DEF_60_CNT_SOCIAL_CIRCLE\",\"y_label\":\"Frequency of DEF_60_CNT_SOCIAL_CIRCLE\",\"width\":700,\"xrange\":[\"0.0\",\"1.0\",\"2.0\",\"\",\"3.0\",\"4.0\",\"5.0\",\"6.0\",\"24.0\",\"7.0\"],\"yrange\":[0,280721]}}],\"data\":{\"6024b0cf-bca0-4096-83af-c3d5bb807703\":[{\"x\":\"0.0\",\"y\":280721},{\"x\":\"1.0\",\"y\":21841},{\"x\":\"2.0\",\"y\":3170},{\"x\":\"\",\"y\":1021},{\"x\":\"3.0\",\"y\":598},{\"x\":\"4.0\",\"y\":135},{\"x\":\"5.0\",\"y\":20},{\"x\":\"6.0\",\"y\":3},{\"x\":\"24.0\",\"y\":1},{\"x\":\"7.0\",\"y\":1}]},\"extension\":[]}\n",
       "        var id_name = '#vis-766ea90a-84a5-4032-af03-26a8259b59be';\n",
       "        Nyaplot.core.parse(model, id_name);\n",
       "\n",
       "        require(['downloadable'], function(downloadable){\n",
       "          var svg = d3.select(id_name).select(\"svg\");\n",
       "\t  if(!svg.empty())\n",
       "\t    svg.call(downloadable().filename('fig'));\n",
       "\t});\n",
       "    };\n",
       "    if(window['Nyaplot']==undefined){\n",
       "        window.addEventListener('load_nyaplot', render, false);\n",
       "\treturn;\n",
       "    } else {\n",
       "       render();\n",
       "    }\n",
       "})();\n",
       "</script>\n"
      ],
      "text/plain": [
       "#<Nyaplot::Plot:0x00000013a6e2b8 @properties={:diagrams=>[#<Nyaplot::Diagram:0x00000013a6af28 @properties={:type=>:bar, :options=>{:x=>:x, :y=>:y}, :data=>\"6024b0cf-bca0-4096-83af-c3d5bb807703\"}, @xrange=[\"0.0\", \"1.0\", \"2.0\", \"\", \"3.0\", \"4.0\", \"5.0\", \"6.0\", \"24.0\", \"7.0\"], @yrange=[0, 280721]>], :options=>{:x_label=>\"DEF_60_CNT_SOCIAL_CIRCLE\", :y_label=>\"Frequency of DEF_60_CNT_SOCIAL_CIRCLE\", :width=>700, :xrange=>[\"0.0\", \"1.0\", \"2.0\", \"\", \"3.0\", \"4.0\", \"5.0\", \"6.0\", \"24.0\", \"7.0\"], :yrange=>[0, 280721]}}>"
      ]
     },
     "execution_count": 53,
     "metadata": {},
     "output_type": "execute_result"
    }
   ],
   "source": [
    "plot_histogram db, 'DEF_60_CNT_SOCIAL_CIRCLE'"
   ]
  },
  {
   "cell_type": "markdown",
   "metadata": {},
   "source": [
    "---\n",
    "## End Question 1.2\n",
    "\n",
    "\n",
    "## Begin Question 1.3 (10 points)\n",
    "Plot the distribution of number of previous applications for all the datasets involving previous loan applications. Are the previous loans in application train? Are there duplicate applications in application_train?\n",
    "\n",
    "---\n",
    "### Answer"
   ]
  },
  {
   "cell_type": "code",
   "execution_count": 57,
   "metadata": {},
   "outputs": [
    {
     "name": "stdout",
     "output_type": "stream",
     "text": [
      "Top 10 repeat applications account for 307785.0 of 338857.0 applications\n"
     ]
    },
    {
     "data": {
      "text/html": [
       "<div id='vis-0ffd32e5-e140-433f-8312-20a5b7cbf16e'></div>\n",
       "<script>\n",
       "(function(){\n",
       "    var render = function(){\n",
       "        var model = {\"panes\":[{\"diagrams\":[{\"type\":\"bar\",\"options\":{\"x\":\"x\",\"y\":\"y\"},\"data\":\"63ebaf18-6ea6-4acc-9374-9b9c2a5c9cd8\"}],\"options\":{\"x_label\":\"Number of previous applications\",\"y_label\":\"Frequency\",\"width\":700,\"xrange\":[\"1\",\"2\",\"3\",\"4\",\"5\",\"6\",\"7\",\"8\",\"9\",\"10\"],\"yrange\":[0,60458.0]}}],\"data\":{\"63ebaf18-6ea6-4acc-9374-9b9c2a5c9cd8\":[{\"x\":\"1\",\"y\":60458.0},{\"x\":\"2\",\"y\":52737.0},{\"x\":\"3\",\"y\":45966.0},{\"x\":\"4\",\"y\":38159.0},{\"x\":\"5\",\"y\":30886.0},{\"x\":\"6\",\"y\":24588.0},{\"x\":\"7\",\"y\":19216.0},{\"x\":\"8\",\"y\":15085.0},{\"x\":\"9\",\"y\":11627.0},{\"x\":\"10\",\"y\":9063.0}]},\"extension\":[]}\n",
       "        var id_name = '#vis-0ffd32e5-e140-433f-8312-20a5b7cbf16e';\n",
       "        Nyaplot.core.parse(model, id_name);\n",
       "\n",
       "        require(['downloadable'], function(downloadable){\n",
       "          var svg = d3.select(id_name).select(\"svg\");\n",
       "\t  if(!svg.empty())\n",
       "\t    svg.call(downloadable().filename('fig'));\n",
       "\t});\n",
       "    };\n",
       "    if(window['Nyaplot']==undefined){\n",
       "        window.addEventListener('load_nyaplot', render, false);\n",
       "\treturn;\n",
       "    } else {\n",
       "       render();\n",
       "    }\n",
       "})();\n",
       "</script>\n"
      ],
      "text/plain": [
       "#<Nyaplot::Plot:0x000000162010c8 @properties={:diagrams=>[#<Nyaplot::Diagram:0x00000016401eb8 @properties={:type=>:bar, :options=>{:x=>:x, :y=>:y}, :data=>\"63ebaf18-6ea6-4acc-9374-9b9c2a5c9cd8\"}, @xrange=[\"1\", \"2\", \"3\", \"4\", \"5\", \"6\", \"7\", \"8\", \"9\", \"10\"], @yrange=[0, 60458.0]>], :options=>{:x_label=>\"Number of previous applications\", :y_label=>\"Frequency\", :width=>700, :xrange=>[\"1\", \"2\", \"3\", \"4\", \"5\", \"6\", \"7\", \"8\", \"9\", \"10\"], :yrange=>[0, 60458.0]}}>"
      ]
     },
     "execution_count": 57,
     "metadata": {},
     "output_type": "execute_result"
    }
   ],
   "source": [
    "x = []\n",
    "y = []\n",
    "n_prev = Hash.new {|h,k| h[k] = 0.0}\n",
    "db.execute(\"select sk_id_curr as id, count(distinct sk_id_prev) as n_prev from previous_application group by sk_id_curr\") do |row|\n",
    "  n_prev[row[\"n_prev\"]] += 1\n",
    "end\n",
    "top_10 = n_prev.keys.sort_by {|np| n_prev[np]}.reverse[0,10]\n",
    "top_10.each do |np|\n",
    "  x << np.to_s\n",
    "  y << n_prev[np]\n",
    "end\n",
    "n_top_10 = top_10.reduce(0.0) {|u,k| u += n_prev[k]}\n",
    "n_total = n_prev.keys.reduce(0.0) {|u,k| u += n_prev[k]}\n",
    "puts \"Top 10 repeat applications account for #{n_top_10} of #{n_total} applications\"\n",
    "\n",
    "df =  Daru::DataFrame.new({x: x, y: y})\n",
    "df.to_category :x\n",
    "df.plot(type: :bar, x: :x, y: :y) do |plot, diagram|\n",
    "  plot.x_label \"Number of previous applications\"\n",
    "  plot.y_label \"Frequency\"\n",
    "end\n"
   ]
  },
  {
   "cell_type": "code",
   "execution_count": 60,
   "metadata": {},
   "outputs": [
    {
     "name": "stdout",
     "output_type": "stream",
     "text": [
      "Total applications: 307511\n"
     ]
    },
    {
     "data": {
      "text/plain": [
       "#<SQLite3::Statement:0x0000001616f448 @connection=#<SQLite3::Database:0x00000013082c68 @tracefunc=nil, @authorizer=nil, @encoding=#<Encoding:UTF-8>, @busy_handler=nil, @collations={}, @functions={}, @results_as_hash=true, @type_translation=nil, @readonly=false>, @remainder=\"\", @columns=[\"n_app\"], @types=[nil]>"
      ]
     },
     "execution_count": 60,
     "metadata": {},
     "output_type": "execute_result"
    }
   ],
   "source": [
    "sql = \"select count(distinct sk_id_curr) as n_app from application_train\"\n",
    "db.execute(sql) do |row|\n",
    "  puts \"Total applications: #{row[\"n_app\"]}\"\n",
    "end\n",
    ";"
   ]
  },
  {
   "cell_type": "code",
   "execution_count": 61,
   "metadata": {},
   "outputs": [
    {
     "name": "stdout",
     "output_type": "stream",
     "text": [
      "Applications with previous application: 291057\n"
     ]
    },
    {
     "data": {
      "text/plain": [
       "#<SQLite3::Statement:0x00000015f4e218 @connection=#<SQLite3::Database:0x00000013082c68 @tracefunc=nil, @authorizer=nil, @encoding=#<Encoding:UTF-8>, @busy_handler=nil, @collations={}, @functions={}, @results_as_hash=true, @type_translation=nil, @readonly=false>, @remainder=\"\", @columns=[\"n_with_prev\"], @types=[nil]>"
      ]
     },
     "execution_count": 61,
     "metadata": {},
     "output_type": "execute_result"
    }
   ],
   "source": [
    "sql = <<SQL\n",
    "select count(distinct a.sk_id_curr) as n_with_prev\n",
    "from application_train a inner join previous_application p on a.sk_id_curr = p.sk_id_curr\n",
    "SQL\n",
    "db.execute(sql) do |row|\n",
    "  puts \"Applications with previous application: #{row[\"n_with_prev\"]}\"\n",
    "end\n",
    ";"
   ]
  },
  {
   "cell_type": "code",
   "execution_count": 63,
   "metadata": {},
   "outputs": [
    {
     "name": "stdout",
     "output_type": "stream",
     "text": [
      "Total records in application_train: 307511\n"
     ]
    },
    {
     "data": {
      "text/plain": [
       "0"
      ]
     },
     "execution_count": 63,
     "metadata": {},
     "output_type": "execute_result"
    }
   ],
   "source": [
    "sql = \"select count(*) as n_rec from application_train\"\n",
    "db.execute(sql) do |row|\n",
    "  puts \"Total records in application_train: #{row[\"n_rec\"]}\"\n",
    "end\n",
    "0"
   ]
  },
  {
   "cell_type": "markdown",
   "metadata": {},
   "source": [
    "---\n",
    "\n",
    "## End Question 1.3\n",
    "\n",
    "\n",
    "## Begin Question 1.4 (35 points)\n",
    "\n",
    "Join all the datasets by sorting the on disk and joining them as appropriate. Generate one record for each application using all available prior data. (Hint, use SQL and optionally views / tables)\n",
    "\n",
    "Verify that you have not lost any records.\n",
    "\n",
    "---\n",
    "### Answer"
   ]
  },
  {
   "cell_type": "code",
   "execution_count": 74,
   "metadata": {},
   "outputs": [
    {
     "data": {
      "text/plain": [
       "[]"
      ]
     },
     "execution_count": 74,
     "metadata": {},
     "output_type": "execute_result"
    }
   ],
   "source": [
    "%w(n_pos_cash n_bureau n_credit_card n_installments n_prev_app).each do |t|\n",
    "  begin\n",
    "    db.execute(\"drop view #{t}\")\n",
    "  rescue\n",
    "  end\n",
    "end\n",
    "\n",
    "sql = <<SQL\n",
    "create temp view n_pos_cash as select sk_id_curr, count(*) as n \n",
    "from pos_cash_balance group by sk_id_curr\n",
    "SQL\n",
    "db.execute(sql)\n",
    "\n",
    "sql = <<SQL\n",
    "create temp view n_bureau as select sk_id_curr, count(*) as n from bureau group by sk_id_curr\n",
    "SQL\n",
    "db.execute(sql)\n",
    "\n",
    "sql = <<SQL\n",
    "create temp view n_credit_card as select sk_id_curr, count(*) as n \n",
    "from credit_card_balance group by sk_id_curr\n",
    "SQL\n",
    "db.execute(sql)\n",
    "\n",
    "sql = <<SQL\n",
    "create temp view n_installments as select sk_id_curr, count(*) as n \n",
    "from installments_payments group by sk_id_curr\n",
    "SQL\n",
    "db.execute(sql)\n",
    "\n",
    "sql = <<SQL\n",
    "create temp view n_prev_app as select sk_id_curr, count(*) as n \n",
    "from previous_application group by sk_id_curr\n",
    "SQL\n",
    "db.execute(sql)\n"
   ]
  },
  {
   "cell_type": "code",
   "execution_count": 78,
   "metadata": {},
   "outputs": [
    {
     "ename": "SQLite3::SQLException",
     "evalue": "no such table: feature",
     "output_type": "error",
     "traceback": [
      "\u001b[31mSQLite3::SQLException\u001b[0m: no such table: feature",
      "\u001b[37m/var/lib/gems/2.3.0/gems/sqlite3-1.3.13/lib/sqlite3/database.rb:91:in `initialize'\u001b[0m",
      "\u001b[37m/var/lib/gems/2.3.0/gems/sqlite3-1.3.13/lib/sqlite3/database.rb:91:in `new'\u001b[0m",
      "\u001b[37m/var/lib/gems/2.3.0/gems/sqlite3-1.3.13/lib/sqlite3/database.rb:91:in `prepare'\u001b[0m",
      "\u001b[37m/var/lib/gems/2.3.0/gems/sqlite3-1.3.13/lib/sqlite3/database.rb:137:in `execute'\u001b[0m",
      "\u001b[37m<main>:19:in `<main>'\u001b[0m",
      "\u001b[37m/var/lib/gems/2.3.0/gems/iruby-0.3/lib/iruby/backend.rb:44:in `eval'\u001b[0m",
      "\u001b[37m/var/lib/gems/2.3.0/gems/iruby-0.3/lib/iruby/backend.rb:44:in `eval'\u001b[0m",
      "\u001b[37m/var/lib/gems/2.3.0/gems/iruby-0.3/lib/iruby/backend.rb:12:in `eval'\u001b[0m",
      "\u001b[37m/var/lib/gems/2.3.0/gems/iruby-0.3/lib/iruby/kernel.rb:87:in `execute_request'\u001b[0m",
      "\u001b[37m/var/lib/gems/2.3.0/gems/iruby-0.3/lib/iruby/kernel.rb:47:in `dispatch'\u001b[0m",
      "\u001b[37m/var/lib/gems/2.3.0/gems/iruby-0.3/lib/iruby/kernel.rb:37:in `run'\u001b[0m",
      "\u001b[37m/var/lib/gems/2.3.0/gems/iruby-0.3/lib/iruby/command.rb:70:in `run_kernel'\u001b[0m",
      "\u001b[37m/var/lib/gems/2.3.0/gems/iruby-0.3/lib/iruby/command.rb:34:in `run'\u001b[0m",
      "\u001b[37m/var/lib/gems/2.3.0/gems/iruby-0.3/bin/iruby:5:in `<top (required)>'\u001b[0m",
      "\u001b[37m/usr/local/bin/iruby:23:in `load'\u001b[0m",
      "\u001b[37m/usr/local/bin/iruby:23:in `<main>'\u001b[0m"
     ]
    }
   ],
   "source": [
    "begin\n",
    "  db.execute(\"drop table features\")\n",
    "rescue\n",
    "end\n",
    "\n",
    "sql = <<SQL\n",
    "create temporary table features as select \n",
    " a.sk_id_curr, a.target, a.flag_own_car, a.flag_own_realty, \n",
    " c.n as n_pc, b.n as n_b, cc.n as n_cc, i.n as n_i, pa.n as n_pa \n",
    "from \n",
    " application_train a \n",
    " left outer join n_pos_cash c on a.sk_id_curr = c.sk_id_curr\n",
    " left outer join n_bureau b on a.sk_id_curr = b.sk_id_curr\n",
    " left outer join n_credit_card cc on a.sk_id_curr = cc.sk_id_curr\n",
    " left outer join n_installments i on a.sk_id_curr = i.sk_id_curr\n",
    " left outer join n_prev_app pa on a.sk_id_curr = pa.sk_id_curr\n",
    "SQL\n",
    "db.execute(sql)\n"
   ]
  },
  {
   "cell_type": "code",
   "execution_count": 80,
   "metadata": {},
   "outputs": [
    {
     "name": "stdout",
     "output_type": "stream",
     "text": [
      "{\"SK_ID_CURR\":100002,\"TARGET\":1,\"FLAG_OWN_CAR\":\"N\",\"FLAG_OWN_REALTY\":\"Y\",\"n_pc\":19,\"n_b\":8,\"n_cc\":null,\"n_i\":19,\"n_pa\":1,\"0\":100002,\"1\":1,\"2\":\"N\",\"3\":\"Y\",\"4\":19,\"5\":8,\"6\":null,\"7\":19,\"8\":1}\n",
      "{\"SK_ID_CURR\":100003,\"TARGET\":0,\"FLAG_OWN_CAR\":\"N\",\"FLAG_OWN_REALTY\":\"N\",\"n_pc\":28,\"n_b\":4,\"n_cc\":null,\"n_i\":25,\"n_pa\":3,\"0\":100003,\"1\":0,\"2\":\"N\",\"3\":\"N\",\"4\":28,\"5\":4,\"6\":null,\"7\":25,\"8\":3}\n",
      "{\"SK_ID_CURR\":100004,\"TARGET\":0,\"FLAG_OWN_CAR\":\"Y\",\"FLAG_OWN_REALTY\":\"Y\",\"n_pc\":4,\"n_b\":2,\"n_cc\":null,\"n_i\":3,\"n_pa\":1,\"0\":100004,\"1\":0,\"2\":\"Y\",\"3\":\"Y\",\"4\":4,\"5\":2,\"6\":null,\"7\":3,\"8\":1}\n",
      "{\"SK_ID_CURR\":100006,\"TARGET\":0,\"FLAG_OWN_CAR\":\"N\",\"FLAG_OWN_REALTY\":\"Y\",\"n_pc\":21,\"n_b\":null,\"n_cc\":6,\"n_i\":16,\"n_pa\":9,\"0\":100006,\"1\":0,\"2\":\"N\",\"3\":\"Y\",\"4\":21,\"5\":null,\"6\":6,\"7\":16,\"8\":9}\n",
      "{\"SK_ID_CURR\":100007,\"TARGET\":0,\"FLAG_OWN_CAR\":\"N\",\"FLAG_OWN_REALTY\":\"Y\",\"n_pc\":66,\"n_b\":1,\"n_cc\":null,\"n_i\":66,\"n_pa\":6,\"0\":100007,\"1\":0,\"2\":\"N\",\"3\":\"Y\",\"4\":66,\"5\":1,\"6\":null,\"7\":66,\"8\":6}\n",
      "{\"SK_ID_CURR\":100008,\"TARGET\":0,\"FLAG_OWN_CAR\":\"N\",\"FLAG_OWN_REALTY\":\"Y\",\"n_pc\":83,\"n_b\":3,\"n_cc\":null,\"n_i\":35,\"n_pa\":5,\"0\":100008,\"1\":0,\"2\":\"N\",\"3\":\"Y\",\"4\":83,\"5\":3,\"6\":null,\"7\":35,\"8\":5}\n",
      "{\"SK_ID_CURR\":100009,\"TARGET\":0,\"FLAG_OWN_CAR\":\"Y\",\"FLAG_OWN_REALTY\":\"Y\",\"n_pc\":64,\"n_b\":18,\"n_cc\":null,\"n_i\":51,\"n_pa\":7,\"0\":100009,\"1\":0,\"2\":\"Y\",\"3\":\"Y\",\"4\":64,\"5\":18,\"6\":null,\"7\":51,\"8\":7}\n",
      "{\"SK_ID_CURR\":100010,\"TARGET\":0,\"FLAG_OWN_CAR\":\"Y\",\"FLAG_OWN_REALTY\":\"Y\",\"n_pc\":11,\"n_b\":2,\"n_cc\":null,\"n_i\":10,\"n_pa\":1,\"0\":100010,\"1\":0,\"2\":\"Y\",\"3\":\"Y\",\"4\":11,\"5\":2,\"6\":null,\"7\":10,\"8\":1}\n",
      "{\"SK_ID_CURR\":100011,\"TARGET\":0,\"FLAG_OWN_CAR\":\"N\",\"FLAG_OWN_REALTY\":\"Y\",\"n_pc\":75,\"n_b\":4,\"n_cc\":74,\"n_i\":130,\"n_pa\":4,\"0\":100011,\"1\":0,\"2\":\"N\",\"3\":\"Y\",\"4\":75,\"5\":4,\"6\":74,\"7\":130,\"8\":4}\n",
      "{\"SK_ID_CURR\":100012,\"TARGET\":0,\"FLAG_OWN_CAR\":\"N\",\"FLAG_OWN_REALTY\":\"Y\",\"n_pc\":46,\"n_b\":null,\"n_cc\":null,\"n_i\":48,\"n_pa\":4,\"0\":100012,\"1\":0,\"2\":\"N\",\"3\":\"Y\",\"4\":46,\"5\":null,\"6\":null,\"7\":48,\"8\":4}\n"
     ]
    },
    {
     "data": {
      "text/plain": [
       "0"
      ]
     },
     "execution_count": 80,
     "metadata": {},
     "output_type": "execute_result"
    }
   ],
   "source": [
    "db.execute(\"select * from features limit 10\") do |row|\n",
    "  puts row.to_json\n",
    "end\n",
    "0"
   ]
  },
  {
   "cell_type": "markdown",
   "metadata": {},
   "source": [
    "---\n",
    "\n",
    "## End Exercise 1"
   ]
  },
  {
   "cell_type": "code",
   "execution_count": null,
   "metadata": {},
   "outputs": [],
   "source": [
    "print `ls`"
   ]
  },
  {
   "cell_type": "markdown",
   "metadata": {},
   "source": [
    "# Exercise 2 (40 Points)\n",
    "\n",
    "We will look at various features and try some simple classifiers to get an understanding of the data. \n",
    "\n",
    "## Question 2.1 (10 Points)\n",
    "Construct numeric features for all features in the dataset. For example, use binary (one-hot encoding) for categorical features. Since the data is in JSON, there is no need to have an index, just set a unique name for all the features. \n",
    "\n",
    "How many unique features do you have in your dataset?\n",
    "\n",
    "What is the average number of non-zero examples for your features? Plot a distribution\n",
    "\n",
    "---\n",
    "### Answer"
   ]
  },
  {
   "cell_type": "code",
   "execution_count": 85,
   "metadata": {},
   "outputs": [
    {
     "name": "stdout",
     "output_type": "stream",
     "text": [
      "Top 10 features account for 100000.0 of 100000.0 examples\n"
     ]
    },
    {
     "data": {
      "text/html": [
       "<div id='vis-2222d45f-2f99-43f4-94c1-fb3344c635f2'></div>\n",
       "<script>\n",
       "(function(){\n",
       "    var render = function(){\n",
       "        var model = {\"panes\":[{\"diagrams\":[{\"type\":\"bar\",\"options\":{\"x\":\"x\",\"y\":\"y\"},\"data\":\"e1850b87-384c-485b-b547-e9ff364cdd91\"}],\"options\":{\"x_label\":\"Number of non-zero features\",\"y_label\":\"Frequency\",\"width\":700,\"xrange\":[\"4\",\"5\",\"6\",\"7\",\"8\",\"9\"],\"yrange\":[0,60965.0]}}],\"data\":{\"e1850b87-384c-485b-b547-e9ff364cdd91\":[{\"x\":\"4\",\"y\":709.0},{\"x\":\"5\",\"y\":4094.0},{\"x\":\"6\",\"y\":315.0},{\"x\":\"7\",\"y\":10292.0},{\"x\":\"8\",\"y\":60965.0},{\"x\":\"9\",\"y\":23625.0}]},\"extension\":[]}\n",
       "        var id_name = '#vis-2222d45f-2f99-43f4-94c1-fb3344c635f2';\n",
       "        Nyaplot.core.parse(model, id_name);\n",
       "\n",
       "        require(['downloadable'], function(downloadable){\n",
       "          var svg = d3.select(id_name).select(\"svg\");\n",
       "\t  if(!svg.empty())\n",
       "\t    svg.call(downloadable().filename('fig'));\n",
       "\t});\n",
       "    };\n",
       "    if(window['Nyaplot']==undefined){\n",
       "        window.addEventListener('load_nyaplot', render, false);\n",
       "\treturn;\n",
       "    } else {\n",
       "       render();\n",
       "    }\n",
       "})();\n",
       "</script>\n"
      ],
      "text/plain": [
       "#<Nyaplot::Plot:0x00000002907340 @properties={:diagrams=>[#<Nyaplot::Diagram:0x000000028e20e0 @properties={:type=>:bar, :options=>{:x=>:x, :y=>:y}, :data=>\"e1850b87-384c-485b-b547-e9ff364cdd91\"}, @xrange=[\"4\", \"5\", \"6\", \"7\", \"8\", \"9\"], @yrange=[0, 60965.0]>], :options=>{:x_label=>\"Number of non-zero features\", :y_label=>\"Frequency\", :width=>700, :xrange=>[\"4\", \"5\", \"6\", \"7\", \"8\", \"9\"], :yrange=>[0, 60965.0]}}>"
      ]
     },
     "execution_count": 85,
     "metadata": {},
     "output_type": "execute_result"
    }
   ],
   "source": [
    "nnz_dist = Hash.new {|h,k| h[k] = 0.0}\n",
    "\n",
    "db.execute(\"select * from features limit 100000\") do |row|\n",
    "  nnz = 0\n",
    "  row.each_key do |fname|\n",
    "    next if fname.is_a? Fixnum\n",
    "    nnz += 1 unless row[fname].nil?\n",
    "  end\n",
    "  nnz_dist[nnz] += 1\n",
    "end\n",
    "\n",
    "x = []\n",
    "y = []\n",
    "top_10 = nnz_dist.keys.sort_by {|np| nnz_dist[np]}.reverse[0,10]\n",
    "top_10.sort.each do |np|\n",
    "  x << np.to_s\n",
    "  y << nnz_dist[np]\n",
    "end\n",
    "n_top_10 = top_10.reduce(0.0) {|u,k| u += nnz_dist[k]}\n",
    "n_total = nnz_dist.keys.reduce(0.0) {|u,k| u += nnz_dist[k]}\n",
    "puts \"Top 10 features account for #{n_top_10} of #{n_total} examples\"\n",
    "\n",
    "df =  Daru::DataFrame.new({x: x, y: y})\n",
    "df.to_category :x\n",
    "df.plot(type: :bar, x: :x, y: :y) do |plot, diagram|\n",
    "  plot.x_label \"Number of non-zero features\"\n",
    "  plot.y_label \"Frequency\"\n",
    "end"
   ]
  },
  {
   "cell_type": "markdown",
   "metadata": {},
   "source": [
    "---\n",
    "## End Question 2.1\n",
    "\n",
    "\n",
    "## Begin Question 2.2 (5 Points)\n",
    "\n",
    "Create a classifier that always returns the majority class label. Calculate its accuracy.\n",
    "\n",
    "--- \n",
    "### Answer"
   ]
  },
  {
   "cell_type": "code",
   "execution_count": null,
   "metadata": {},
   "outputs": [],
   "source": [
    "nnz_dist = Hash.new {|h,k| h[k] = 0.0}\n",
    "\n",
    "db.execute(\"select * from features limit 100000\") do |row|\n",
    "  nnz = 0\n",
    "  row.each_key do |fname|\n",
    "    next if fname.is_a? Fixnum\n",
    "    nnz += 1 unless row[fname].nil?\n",
    "  end\n",
    "  nnz_dist[nnz] += 1\n",
    "end\n",
    "\n",
    "\n",
    "class NaiveBayesModel\n",
    "  def func dataset, w\n",
    "    -dataset.inject(0.0) do |u, row| \n",
    "      cls = row[\"label\"] == \"1\" ? \"pos\" : \"neg\"\n",
    "      p = cls == \"pos\" ? 1.0 : 0.0      \n",
    "      u += Math.log((w[\"pos_bias\"] ** p) * ((1 - w[\"pos_bias\"]) ** (1 - p)))\n",
    "      n = cls == \"neg\" ? 1.0 : 0.0      \n",
    "      u += Math.log((w[\"neg_bias\"] ** n) * ((1 - w[\"neg_bias\"]) ** (1 - n)))\n",
    "      \n",
    "      u += row[\"features\"].keys.inject(Math.log(w[\"#{cls}_bias\"])) do |u, fname|\n",
    "        u += Math.log(w[\"#{cls}_#{fname}\"]) * row[\"features\"][fname]\n",
    "      end\n",
    "    end\n",
    "  end\n",
    "  \n",
    "  def grad dataset, w\n",
    "    g = Hash.new {|h,k| h[k] = 0.0}\n",
    "    dataset.each do |row|       \n",
    "      cls = row[\"label\"] == \"1\" ? \"pos\" : \"neg\"\n",
    "      p = cls == \"pos\" ? 1.0 : 0.0      \n",
    "      g[\"pos_bias\"] -= (p / w[\"pos_bias\"]) - (1 - p) / (1 - w[\"pos_bias\"])\n",
    "      \n",
    "      n = cls == \"neg\" ? 1.0 : 0.0      \n",
    "      g[\"neg_bias\"] -= (n / w[\"neg_bias\"]) - (1 - n) / (1 - w[\"neg_bias\"])\n",
    "\n",
    "      \n",
    "      row[\"features\"].each_key do |fname|\n",
    "        g[\"#{cls}_#{fname}\"] -= row[\"features\"][fname] / w[\"#{cls}_#{fname}\"]\n",
    "      end\n",
    "    end\n",
    "\n",
    "    return g\n",
    "  end\n",
    "  \n",
    "  def predict w, row\n",
    "    scores = Hash.new\n",
    "    \n",
    "    %w(pos neg).each do |cls|\n",
    "      scores[cls] = row[\"features\"].keys.inject(Math.log(w[\"#{cls}_bias\"])) do |u, fname|\n",
    "        u += Math.log(w[\"#{cls}_#{fname}\"]) * row[\"features\"][fname]\n",
    "      end\n",
    "    end\n",
    "    cls = scores.keys.max_by {|cls| scores[cls]}\n",
    "    lbl = cls == \"pos\" ? \"1\" : \"0\"\n",
    "    {lbl => scores[cls]}\n",
    "  end\n",
    "  \n",
    "  def adjust w\n",
    "    w.each_key do |fname|\n",
    "      w[fname] = [[0.001, w[fname]].max, 0.999].min\n",
    "    end\n",
    "  end\n",
    "end"
   ]
  },
  {
   "cell_type": "markdown",
   "metadata": {},
   "source": [
    "--- \n",
    "## End Question 2.2 \n",
    "\n",
    "\n",
    "## Begin Question 2.3 (5 points)\n",
    "\n",
    "Create a classifier that randomly picks a class label with probability equal to the class distribution. Calculate its accuracy. Do you notice any difference to the previous classifier?\n",
    "\n",
    "---\n",
    "\n",
    "### Answer"
   ]
  },
  {
   "cell_type": "code",
   "execution_count": null,
   "metadata": {},
   "outputs": [],
   "source": []
  },
  {
   "cell_type": "markdown",
   "metadata": {},
   "source": [
    "---\n",
    "## End Question 2.3\n",
    "\n",
    "## Begin Question 2.4 (20 points)\n",
    "Train your Naive Bayes classifier on this dataset using the Normal distribution instead of the Bernoulli distribution for the feature-specific class priors. Calculate the accuracy now.\n",
    "\n",
    "---\n",
    "### Answer"
   ]
  },
  {
   "cell_type": "code",
   "execution_count": null,
   "metadata": {},
   "outputs": [],
   "source": []
  },
  {
   "cell_type": "markdown",
   "metadata": {},
   "source": [
    "## End Exercise 2\n",
    "\n"
   ]
  }
 ],
 "metadata": {
  "kernelspec": {
   "display_name": "Ruby 2.3.1",
   "language": "ruby",
   "name": "ruby"
  },
  "language_info": {
   "file_extension": ".rb",
   "mimetype": "application/x-ruby",
   "name": "ruby",
   "version": "2.3.1"
  }
 },
 "nbformat": 4,
 "nbformat_minor": 2
}
